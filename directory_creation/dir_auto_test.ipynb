{
 "cells": [
  {
   "cell_type": "code",
   "execution_count": 1,
   "metadata": {},
   "outputs": [],
   "source": [
    "import os"
   ]
  },
  {
   "cell_type": "code",
   "execution_count": 40,
   "metadata": {},
   "outputs": [],
   "source": [
    "class UserIn:\n",
    "    def __init__(self):\n",
    "        self.date = input(\"Enter the date in the form year/month/day [e.g. 220510]: \").strip()\n",
    "        self.worm_type = input(\"What Strain of worm is being imaged today?\").strip().upper()\n",
    "        self.strains = []\n",
    "        self.strain = input(\"What strain(s) of bacteria are being imaged today?\").strip()\n",
    "        while(not self.strain.strip().lower().startswith(\"ex\") or self.strain == \"\"):\n",
    "              self.strains.append(self.strain)\n",
    "              self.strain = input(\"Enter another strain if desired, or type (ex)it if all strains have been entered\")\n",
    "        \n",
    "        self.temp = int(input(\"What temperature were these worms grown up at? (please enter as an integer [e.g. 25])\").strip())\n",
    "        self.N = int(input(\"What N will you be collecting on each group today? (please enter as an integer [e.g. 25])\").strip())\n",
    "        self.name = input(\"What will your file names be?\")\n",
    "\n",
    "    def make_dirs(self):\n",
    "        os.mkdir(self.date)\n",
    "        os.mkdir(f\"{self.date}/stitched\")\n",
    "\n",
    "        for s in self.strains:\n",
    "            os.mkdir(f\"{self.date}/{s}\") \n",
    "            os.mkdir(f\"{self.date}/stitched/{s}\")\n",
    "        \n",
    "\n",
    "    def write_log_template(self):\n",
    "        with open(f\"./{self.date}/README.txt\", 'w') as file:\n",
    "            file.write(f\"{self.date}\\n\")\n",
    "            file.write(\"Comments: \\n\\\n",
    "*-* \\n\\\n",
    "Laser Settings: \\n\\\n",
    "\\n\\\n",
    "405: \\n\\\n",
    "exposure: \\n\\\n",
    "intensity: \\n\\\n",
    "\\n\\\n",
    "561: \\n\\\n",
    "exposure: \\n\\\n",
    "intensity: \\n\\n\")\n",
    "            for s in self.strains:\n",
    "                file.write(\"*--*\\n\")\n",
    "                file.write(\"date,strain,feed,temp\\n\")\n",
    "                file.write(f\"{self.date},{self.worm_type},{s},{self.temp}\\n\\n\")\n",
    "                for i in range(self.N):\n",
    "                    file.write(f\"{self.name + str(i + 1)},stage,rating,comments\\n\")\n",
    "\n",
    "                file.write(\"\\n\\n\\n\")\n",
    "            \n"
   ]
  },
  {
   "cell_type": "code",
   "execution_count": 41,
   "metadata": {},
   "outputs": [],
   "source": [
    "fields = UserIn()"
   ]
  },
  {
   "cell_type": "code",
   "execution_count": 12,
   "metadata": {},
   "outputs": [
    {
     "name": "stdout",
     "output_type": "stream",
     "text": [
      "['230607', 'N2', ['JUB66(RFP)', 'PA14'], '25']\n"
     ]
    }
   ],
   "source": [
    "print([fields.date, fields.worm_type, fields.strains, fields.temp])"
   ]
  },
  {
   "cell_type": "code",
   "execution_count": 42,
   "metadata": {},
   "outputs": [],
   "source": [
    "fields.make_dirs()"
   ]
  },
  {
   "cell_type": "code",
   "execution_count": 43,
   "metadata": {},
   "outputs": [],
   "source": [
    "fields.write_log_template()"
   ]
  }
 ],
 "metadata": {
  "kernelspec": {
   "display_name": "base",
   "language": "python",
   "name": "python3"
  },
  "language_info": {
   "codemirror_mode": {
    "name": "ipython",
    "version": 3
   },
   "file_extension": ".py",
   "mimetype": "text/x-python",
   "name": "python",
   "nbconvert_exporter": "python",
   "pygments_lexer": "ipython3",
   "version": "3.10.10"
  },
  "orig_nbformat": 4
 },
 "nbformat": 4,
 "nbformat_minor": 2
}
