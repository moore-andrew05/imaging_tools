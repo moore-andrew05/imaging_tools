{
 "cells": [
  {
   "cell_type": "code",
   "execution_count": 1,
   "metadata": {},
   "outputs": [],
   "source": [
    "import pandas as pd\n",
    "import numpy as np\n",
    "import matplotlib.pyplot as plt\n",
    "from KeemPlot import KeemPlot as kp"
   ]
  },
  {
   "cell_type": "code",
   "execution_count": 2,
   "metadata": {},
   "outputs": [],
   "source": [
    "df = pd.read_pickle(\"/Volumes/onishlab_shared/PROJECTS/30_Andrew/03_IMAGING_DATABASE/IMDB.pkl\")"
   ]
  },
  {
   "cell_type": "code",
   "execution_count": 3,
   "metadata": {},
   "outputs": [],
   "source": [
    "data = df.loc[:, [\"ID\", \"array_vals\"]].values"
   ]
  },
  {
   "cell_type": "code",
   "execution_count": 7,
   "metadata": {},
   "outputs": [
    {
     "data": {
      "text/plain": [
       "array(['00021',\n",
       "       array([0.01176471, 0.01176471, 0.01176471, ..., 0.01176471, 0.01176471,\n",
       "              0.01176471])                                                    ],\n",
       "      dtype=object)"
      ]
     },
     "execution_count": 7,
     "metadata": {},
     "output_type": "execute_result"
    }
   ],
   "source": [
    "data[0]"
   ]
  },
  {
   "cell_type": "code",
   "execution_count": 15,
   "metadata": {},
   "outputs": [],
   "source": [
    "repr_data = data[data[:, 0] == \"00025\"][0]"
   ]
  },
  {
   "cell_type": "code",
   "execution_count": 17,
   "metadata": {},
   "outputs": [
    {
     "data": {
      "text/plain": [
       "array([0.01176471, 0.01448512, 0.01546725, ..., 0.0107124 , 0.01123279,\n",
       "       0.00987259])"
      ]
     },
     "execution_count": 17,
     "metadata": {},
     "output_type": "execute_result"
    }
   ],
   "source": [
    "repr_data[1]"
   ]
  },
  {
   "cell_type": "code",
   "execution_count": 27,
   "metadata": {},
   "outputs": [],
   "source": [
    "repr_data_bar = kp.create_barcode(kp, repr_data[1])"
   ]
  },
  {
   "cell_type": "code",
   "execution_count": 28,
   "metadata": {},
   "outputs": [
    {
     "data": {
      "text/plain": [
       "array([[0.01176471, 0.01448512, 0.01546725, ..., 0.0107124 , 0.01123279,\n",
       "        0.00987259],\n",
       "       [0.01176471, 0.01448512, 0.01546725, ..., 0.0107124 , 0.01123279,\n",
       "        0.00987259],\n",
       "       [0.01176471, 0.01448512, 0.01546725, ..., 0.0107124 , 0.01123279,\n",
       "        0.00987259],\n",
       "       ...,\n",
       "       [0.01176471, 0.01448512, 0.01546725, ..., 0.0107124 , 0.01123279,\n",
       "        0.00987259],\n",
       "       [0.01176471, 0.01448512, 0.01546725, ..., 0.0107124 , 0.01123279,\n",
       "        0.00987259],\n",
       "       [0.01176471, 0.01448512, 0.01546725, ..., 0.0107124 , 0.01123279,\n",
       "        0.00987259]])"
      ]
     },
     "execution_count": 28,
     "metadata": {},
     "output_type": "execute_result"
    }
   ],
   "source": [
    "repr_data_bar"
   ]
  },
  {
   "cell_type": "code",
   "execution_count": 32,
   "metadata": {},
   "outputs": [
    {
     "data": {
      "image/png": "[encoded data removed]",
      "text/plain": [
       "<Figure size 640x480 with 2 Axes>"
      ]
     },
     "metadata": {},
     "output_type": "display_data"
    }
   ],
   "source": [
    "kp.plot_barcodes(kp, [repr_data_bar * 5, repr_data_bar], save=\"./figs/repr_fig_kp.svg\")"
   ]
  }
 ],
 "metadata": {
  "kernelspec": {
   "display_name": "bactoquant",
   "language": "python",
   "name": "python3"
  },
  "language_info": {
   "codemirror_mode": {
    "name": "ipython",
    "version": 3
   },
   "file_extension": ".py",
   "mimetype": "text/x-python",
   "name": "python",
   "nbconvert_exporter": "python",
   "pygments_lexer": "ipython3",
   "version": "3.11.3"
  },
  "orig_nbformat": 4
 },
 "nbformat": 4,
 "nbformat_minor": 2
}
