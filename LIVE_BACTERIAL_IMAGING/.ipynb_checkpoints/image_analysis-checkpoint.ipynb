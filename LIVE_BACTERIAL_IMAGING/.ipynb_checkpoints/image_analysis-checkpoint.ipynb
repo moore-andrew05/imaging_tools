{
 "cells": [
  {
   "cell_type": "markdown",
   "metadata": {},
   "source": [
    "## Import necessary libraries and packages"
   ]
  },
  {
   "cell_type": "code",
   "execution_count": 41,
   "metadata": {},
   "outputs": [],
   "source": [
    "import pandas as pd\n",
    "import numpy as np\n",
    "import matplotlib as mp\n",
    "import matplotlib.pyplot as plt\n",
    "import random\n",
    "import re\n",
    "from statistics import mean\n",
    "import plotly.express as px\n",
    "import plotly.graph_objects as go\n",
    "from scipy.stats import f_oneway\n",
    "import scipy.stats as stats\n",
    "import statsmodels.api as sm\n",
    "from statsmodels.regression.mixed_linear_model import MixedLM\n",
    "import statsmodels.formula.api as smf\n",
    "import seaborn as sns\n",
    "import researchpy as rp"
   ]
  },
  {
   "cell_type": "markdown",
   "metadata": {},
   "source": [
    "## Read in a pandas dataframe containing our image arrays along with some metadata"
   ]
  },
  {
   "cell_type": "code",
   "execution_count": 42,
   "metadata": {},
   "outputs": [
    {
     "data": {
      "text/html": [
       "<div>\n",
       "<style scoped>\n",
       "    .dataframe tbody tr th:only-of-type {\n",
       "        vertical-align: middle;\n",
       "    }\n",
       "\n",
       "    .dataframe tbody tr th {\n",
       "        vertical-align: top;\n",
       "    }\n",
       "\n",
       "    .dataframe thead th {\n",
       "        text-align: right;\n",
       "    }\n",
       "</style>\n",
       "<table border=\"1\" class=\"dataframe\">\n",
       "  <thead>\n",
       "    <tr style=\"text-align: right;\">\n",
       "      <th></th>\n",
       "      <th>date</th>\n",
       "      <th>strain</th>\n",
       "      <th>feed</th>\n",
       "      <th>temp</th>\n",
       "      <th>name</th>\n",
       "      <th>stage</th>\n",
       "      <th>rating</th>\n",
       "      <th>comments</th>\n",
       "      <th>ID</th>\n",
       "      <th>array_vals</th>\n",
       "      <th>array_vals_ni</th>\n",
       "      <th>REP</th>\n",
       "    </tr>\n",
       "  </thead>\n",
       "  <tbody>\n",
       "    <tr>\n",
       "      <th>0</th>\n",
       "      <td>230614</td>\n",
       "      <td>N2</td>\n",
       "      <td>JUB66_RFP</td>\n",
       "      <td>25</td>\n",
       "      <td>image1</td>\n",
       "      <td>YL4</td>\n",
       "      <td>4</td>\n",
       "      <td>comments</td>\n",
       "      <td>00021</td>\n",
       "      <td>[0.011764705882352941, 0.011764705882352941, 0...</td>\n",
       "      <td>[0.011764705882352941, 0.011764705882352941, 0...</td>\n",
       "      <td>1</td>\n",
       "    </tr>\n",
       "    <tr>\n",
       "      <th>1</th>\n",
       "      <td>230614</td>\n",
       "      <td>N2</td>\n",
       "      <td>JUB66_RFP</td>\n",
       "      <td>25</td>\n",
       "      <td>image2</td>\n",
       "      <td>YL4</td>\n",
       "      <td>4</td>\n",
       "      <td>comments</td>\n",
       "      <td>00022</td>\n",
       "      <td>[0.010910200656137941, 0.01151731697290573, 0....</td>\n",
       "      <td>[0.010910200656137941, 0.011764705882352941, 0...</td>\n",
       "      <td>1</td>\n",
       "    </tr>\n",
       "    <tr>\n",
       "      <th>2</th>\n",
       "      <td>230614</td>\n",
       "      <td>N2</td>\n",
       "      <td>JUB66_RFP</td>\n",
       "      <td>25</td>\n",
       "      <td>image3</td>\n",
       "      <td>YL4</td>\n",
       "      <td>5</td>\n",
       "      <td>comments</td>\n",
       "      <td>00023</td>\n",
       "      <td>[0.011764705882352941, 0.011764705882352941, 0...</td>\n",
       "      <td>[0.011764705882352941, 0.011764705882352941, 0...</td>\n",
       "      <td>1</td>\n",
       "    </tr>\n",
       "    <tr>\n",
       "      <th>3</th>\n",
       "      <td>230614</td>\n",
       "      <td>N2</td>\n",
       "      <td>JUB66_RFP</td>\n",
       "      <td>25</td>\n",
       "      <td>image4</td>\n",
       "      <td>YL4</td>\n",
       "      <td>4</td>\n",
       "      <td>comments</td>\n",
       "      <td>00024</td>\n",
       "      <td>[0.011444266422522316, 0.011697760685114819, 0...</td>\n",
       "      <td>[0.011444266422522316, 0.011764705882352941, 0...</td>\n",
       "      <td>1</td>\n",
       "    </tr>\n",
       "    <tr>\n",
       "      <th>4</th>\n",
       "      <td>230614</td>\n",
       "      <td>N2</td>\n",
       "      <td>JUB66_RFP</td>\n",
       "      <td>25</td>\n",
       "      <td>image5</td>\n",
       "      <td>YL4</td>\n",
       "      <td>4</td>\n",
       "      <td>Lots of signal in this one all concentrated n...</td>\n",
       "      <td>00025</td>\n",
       "      <td>[0.011764705882352941, 0.014485120414898868, 0...</td>\n",
       "      <td>[0.011764705882352941, 0.015030136568245976, 0...</td>\n",
       "      <td>1</td>\n",
       "    </tr>\n",
       "    <tr>\n",
       "      <th>...</th>\n",
       "      <td>...</td>\n",
       "      <td>...</td>\n",
       "      <td>...</td>\n",
       "      <td>...</td>\n",
       "      <td>...</td>\n",
       "      <td>...</td>\n",
       "      <td>...</td>\n",
       "      <td>...</td>\n",
       "      <td>...</td>\n",
       "      <td>...</td>\n",
       "      <td>...</td>\n",
       "      <td>...</td>\n",
       "    </tr>\n",
       "    <tr>\n",
       "      <th>85</th>\n",
       "      <td>230721</td>\n",
       "      <td>N2</td>\n",
       "      <td>MK_JUB66_RFP_IN_JUB66</td>\n",
       "      <td>25</td>\n",
       "      <td>image6</td>\n",
       "      <td>L4</td>\n",
       "      <td>4</td>\n",
       "      <td>comments</td>\n",
       "      <td>00106</td>\n",
       "      <td>[0.011764705882352941, 0.011764705882352941, 0...</td>\n",
       "      <td>[0.011764705882352941, 0.011764705882352941, 0...</td>\n",
       "      <td>3</td>\n",
       "    </tr>\n",
       "    <tr>\n",
       "      <th>86</th>\n",
       "      <td>230721</td>\n",
       "      <td>N2</td>\n",
       "      <td>MK_JUB66_RFP_IN_JUB66</td>\n",
       "      <td>25</td>\n",
       "      <td>image7</td>\n",
       "      <td>YL4</td>\n",
       "      <td>4</td>\n",
       "      <td>comments</td>\n",
       "      <td>00107</td>\n",
       "      <td>[0.011764705882352941, 0.011764705882352941, 0...</td>\n",
       "      <td>[0.011764705882352941, 0.011764705882352941, 0...</td>\n",
       "      <td>3</td>\n",
       "    </tr>\n",
       "    <tr>\n",
       "      <th>87</th>\n",
       "      <td>230721</td>\n",
       "      <td>N2</td>\n",
       "      <td>MK_JUB66_RFP_IN_JUB66</td>\n",
       "      <td>25</td>\n",
       "      <td>image8</td>\n",
       "      <td>L4</td>\n",
       "      <td>3</td>\n",
       "      <td>comments</td>\n",
       "      <td>00108</td>\n",
       "      <td>[0.011764705882352941, 0.011764705882352941, 0...</td>\n",
       "      <td>[0.011764705882352941, 0.011764705882352941, 0...</td>\n",
       "      <td>3</td>\n",
       "    </tr>\n",
       "    <tr>\n",
       "      <th>88</th>\n",
       "      <td>230721</td>\n",
       "      <td>N2</td>\n",
       "      <td>MK_JUB66_RFP_IN_JUB66</td>\n",
       "      <td>25</td>\n",
       "      <td>image9</td>\n",
       "      <td>L4</td>\n",
       "      <td>4</td>\n",
       "      <td>comments</td>\n",
       "      <td>00109</td>\n",
       "      <td>[0.011764705882352941, 0.011764705882352941, 0...</td>\n",
       "      <td>[0.011764705882352941, 0.011764705882352941, 0...</td>\n",
       "      <td>3</td>\n",
       "    </tr>\n",
       "    <tr>\n",
       "      <th>89</th>\n",
       "      <td>230721</td>\n",
       "      <td>N2</td>\n",
       "      <td>MK_JUB66_RFP_IN_JUB66</td>\n",
       "      <td>25</td>\n",
       "      <td>image10</td>\n",
       "      <td>L4</td>\n",
       "      <td>3</td>\n",
       "      <td>comments</td>\n",
       "      <td>00110</td>\n",
       "      <td>[0.011764705882352941, 0.011764705882352941, 0...</td>\n",
       "      <td>[0.011764705882352941, 0.011764705882352941, 0...</td>\n",
       "      <td>3</td>\n",
       "    </tr>\n",
       "  </tbody>\n",
       "</table>\n",
       "<p>90 rows × 12 columns</p>\n",
       "</div>"
      ],
      "text/plain": [
       "      date strain                   feed temp     name stage rating   \n",
       "0   230614     N2              JUB66_RFP   25   image1   YL4      4  \\\n",
       "1   230614     N2              JUB66_RFP   25   image2   YL4      4   \n",
       "2   230614     N2              JUB66_RFP   25   image3   YL4      5   \n",
       "3   230614     N2              JUB66_RFP   25   image4   YL4      4   \n",
       "4   230614     N2              JUB66_RFP   25   image5   YL4      4   \n",
       "..     ...    ...                    ...  ...      ...   ...    ...   \n",
       "85  230721     N2  MK_JUB66_RFP_IN_JUB66   25   image6    L4      4   \n",
       "86  230721     N2  MK_JUB66_RFP_IN_JUB66   25   image7   YL4      4   \n",
       "87  230721     N2  MK_JUB66_RFP_IN_JUB66   25   image8    L4      3   \n",
       "88  230721     N2  MK_JUB66_RFP_IN_JUB66   25   image9    L4      4   \n",
       "89  230721     N2  MK_JUB66_RFP_IN_JUB66   25  image10    L4      3   \n",
       "\n",
       "                                             comments     ID   \n",
       "0                                            comments  00021  \\\n",
       "1                                            comments  00022   \n",
       "2                                            comments  00023   \n",
       "3                                            comments  00024   \n",
       "4    Lots of signal in this one all concentrated n...  00025   \n",
       "..                                                ...    ...   \n",
       "85                                           comments  00106   \n",
       "86                                           comments  00107   \n",
       "87                                           comments  00108   \n",
       "88                                           comments  00109   \n",
       "89                                           comments  00110   \n",
       "\n",
       "                                           array_vals   \n",
       "0   [0.011764705882352941, 0.011764705882352941, 0...  \\\n",
       "1   [0.010910200656137941, 0.01151731697290573, 0....   \n",
       "2   [0.011764705882352941, 0.011764705882352941, 0...   \n",
       "3   [0.011444266422522316, 0.011697760685114819, 0...   \n",
       "4   [0.011764705882352941, 0.014485120414898868, 0...   \n",
       "..                                                ...   \n",
       "85  [0.011764705882352941, 0.011764705882352941, 0...   \n",
       "86  [0.011764705882352941, 0.011764705882352941, 0...   \n",
       "87  [0.011764705882352941, 0.011764705882352941, 0...   \n",
       "88  [0.011764705882352941, 0.011764705882352941, 0...   \n",
       "89  [0.011764705882352941, 0.011764705882352941, 0...   \n",
       "\n",
       "                                        array_vals_ni  REP  \n",
       "0   [0.011764705882352941, 0.011764705882352941, 0...    1  \n",
       "1   [0.010910200656137941, 0.011764705882352941, 0...    1  \n",
       "2   [0.011764705882352941, 0.011764705882352941, 0...    1  \n",
       "3   [0.011444266422522316, 0.011764705882352941, 0...    1  \n",
       "4   [0.011764705882352941, 0.015030136568245976, 0...    1  \n",
       "..                                                ...  ...  \n",
       "85  [0.011764705882352941, 0.011764705882352941, 0...    3  \n",
       "86  [0.011764705882352941, 0.011764705882352941, 0...    3  \n",
       "87  [0.011764705882352941, 0.011764705882352941, 0...    3  \n",
       "88  [0.011764705882352941, 0.011764705882352941, 0...    3  \n",
       "89  [0.011764705882352941, 0.011764705882352941, 0...    3  \n",
       "\n",
       "[90 rows x 12 columns]"
      ]
     },
     "execution_count": 42,
     "metadata": {},
     "output_type": "execute_result"
    }
   ],
   "source": [
    "data = pd.read_pickle(\"/Volumes/onishlab_shared/PROJECTS/30_Andrew/03_IMAGING_DATABASE/IMDB.pkl\")\n",
    "\n",
    "data"
   ]
  },
  {
   "cell_type": "markdown",
   "metadata": {},
   "source": [
    "## Load our image arrays into a useful form where we can work with it in numpy. Each image array is a 1D array with 3500 values. These 3500 values have been interpolated from our images of various lengths <3500. Each value in the array originally had a value between 0 and 4095 representing the raw signal from the microscope sensor. In this case, values below # were set to 0 to threshold out the gut granules. This threshold information can be found in the metadata of the dataframe. This threshold can of course be adjusted at the analysis step. After thresholding, values in the array are normalized by dividing each by 4095 so that each value is between 0 and 1. Using linear interpolation, all arrays are stretched to a standardized length of 3500 values."
   ]
  },
  {
   "cell_type": "code",
   "execution_count": 44,
   "metadata": {},
   "outputs": [
    {
     "name": "stdout",
     "output_type": "stream",
     "text": [
      "               arr_values                                           arr_data\n",
      "0               JUB66_RFP  [0.011764705882352941, 0.011764705882352941, 0...\n",
      "1               JUB66_RFP  [0.010910200656137941, 0.011764705882352941, 0...\n",
      "2               JUB66_RFP  [0.011764705882352941, 0.011764705882352941, 0...\n",
      "3               JUB66_RFP  [0.011444266422522316, 0.011764705882352941, 0...\n",
      "4               JUB66_RFP  [0.011764705882352941, 0.015030136568245976, 0...\n",
      "..                    ...                                                ...\n",
      "85  MK_JUB66_RFP_IN_JUB66  [0.011764705882352941, 0.011764705882352941, 0...\n",
      "86  MK_JUB66_RFP_IN_JUB66  [0.011764705882352941, 0.011764705882352941, 0...\n",
      "87  MK_JUB66_RFP_IN_JUB66  [0.011764705882352941, 0.011764705882352941, 0...\n",
      "88  MK_JUB66_RFP_IN_JUB66  [0.011764705882352941, 0.011764705882352941, 0...\n",
      "89  MK_JUB66_RFP_IN_JUB66  [0.011764705882352941, 0.011764705882352941, 0...\n",
      "\n",
      "[90 rows x 2 columns]\n"
     ]
    }
   ],
   "source": [
    "# make an array of the thresholded data\n",
    "arr_data = data[\"array_vals_ni\"].values\n",
    "arr_data\n",
    "\n",
    "# make an array of the strain names\n",
    "arr_values = data[\"feed\"].values\n",
    "arr_values\n",
    "\n",
    "# make an dataframe of both the thresholded data and the strain names\n",
    "df = pd.DataFrame({'arr_values':arr_values, 'arr_data':arr_data})\n",
    "print(df)"
   ]
  },
  {
   "cell_type": "markdown",
   "metadata": {},
   "source": [
    "## check to make sure the order isnt messed up"
   ]
  },
  {
   "cell_type": "code",
   "execution_count": 45,
   "metadata": {},
   "outputs": [
    {
     "data": {
      "text/html": [
       "<div>\n",
       "<style scoped>\n",
       "    .dataframe tbody tr th:only-of-type {\n",
       "        vertical-align: middle;\n",
       "    }\n",
       "\n",
       "    .dataframe tbody tr th {\n",
       "        vertical-align: top;\n",
       "    }\n",
       "\n",
       "    .dataframe thead th {\n",
       "        text-align: right;\n",
       "    }\n",
       "</style>\n",
       "<table border=\"1\" class=\"dataframe\">\n",
       "  <thead>\n",
       "    <tr style=\"text-align: right;\">\n",
       "      <th></th>\n",
       "      <th>arr_values</th>\n",
       "      <th>arr_data</th>\n",
       "    </tr>\n",
       "  </thead>\n",
       "  <tbody>\n",
       "    <tr>\n",
       "      <th>0</th>\n",
       "      <td>True</td>\n",
       "      <td>True</td>\n",
       "    </tr>\n",
       "    <tr>\n",
       "      <th>1</th>\n",
       "      <td>True</td>\n",
       "      <td>True</td>\n",
       "    </tr>\n",
       "    <tr>\n",
       "      <th>2</th>\n",
       "      <td>True</td>\n",
       "      <td>True</td>\n",
       "    </tr>\n",
       "    <tr>\n",
       "      <th>3</th>\n",
       "      <td>True</td>\n",
       "      <td>True</td>\n",
       "    </tr>\n",
       "    <tr>\n",
       "      <th>4</th>\n",
       "      <td>True</td>\n",
       "      <td>True</td>\n",
       "    </tr>\n",
       "    <tr>\n",
       "      <th>...</th>\n",
       "      <td>...</td>\n",
       "      <td>...</td>\n",
       "    </tr>\n",
       "    <tr>\n",
       "      <th>85</th>\n",
       "      <td>True</td>\n",
       "      <td>True</td>\n",
       "    </tr>\n",
       "    <tr>\n",
       "      <th>86</th>\n",
       "      <td>True</td>\n",
       "      <td>True</td>\n",
       "    </tr>\n",
       "    <tr>\n",
       "      <th>87</th>\n",
       "      <td>True</td>\n",
       "      <td>True</td>\n",
       "    </tr>\n",
       "    <tr>\n",
       "      <th>88</th>\n",
       "      <td>True</td>\n",
       "      <td>True</td>\n",
       "    </tr>\n",
       "    <tr>\n",
       "      <th>89</th>\n",
       "      <td>True</td>\n",
       "      <td>True</td>\n",
       "    </tr>\n",
       "  </tbody>\n",
       "</table>\n",
       "<p>90 rows × 2 columns</p>\n",
       "</div>"
      ],
      "text/plain": [
       "    arr_values  arr_data\n",
       "0         True      True\n",
       "1         True      True\n",
       "2         True      True\n",
       "3         True      True\n",
       "4         True      True\n",
       "..         ...       ...\n",
       "85        True      True\n",
       "86        True      True\n",
       "87        True      True\n",
       "88        True      True\n",
       "89        True      True\n",
       "\n",
       "[90 rows x 2 columns]"
      ]
     },
     "execution_count": 45,
     "metadata": {},
     "output_type": "execute_result"
    }
   ],
   "source": [
    "a = data['feed']\n",
    "b = data['array_vals_ni']\n",
    "c = pd.DataFrame({'arr_values':a, 'arr_data':b})\n",
    "\n",
    "df == c"
   ]
  },
  {
   "cell_type": "markdown",
   "metadata": {},
   "source": [
    "## check how long the arrays are"
   ]
  },
  {
   "cell_type": "code",
   "execution_count": 46,
   "metadata": {},
   "outputs": [
    {
     "data": {
      "text/plain": [
       "(2457,)"
      ]
     },
     "execution_count": 46,
     "metadata": {},
     "output_type": "execute_result"
    }
   ],
   "source": [
    "arr_data = data[\"array_vals_ni\"].values\n",
    "arr_data[0].shape"
   ]
  },
  {
   "cell_type": "markdown",
   "metadata": {},
   "source": [
    "## split samples into their respective groups"
   ]
  },
  {
   "cell_type": "code",
   "execution_count": 78,
   "metadata": {},
   "outputs": [],
   "source": [
    "JUB66_RFP = df[df['arr_values'] == 'JUB66_RFP']\n",
    "JUB66_RFP = JUB66_RFP['arr_data']\n",
    "JUB66_RFP = np.array(JUB66_RFP)\n",
    "\n",
    "JUB66_RFP_IN_CEMBIO = df[df['arr_values'] == 'JUB66_RFP_IN_CEMBIO']\n",
    "JUB66_RFP_IN_CEMBIO = JUB66_RFP_IN_CEMBIO['arr_data']\n",
    "JUB66_RFP_IN_CEMBIO = np.array(JUB66_RFP_IN_CEMBIO)\n",
    "\n",
    "MK_JUB66_RFP = df[df['arr_values'] == 'MK_JUB66_RFP_IN_JUB66']\n",
    "MK_JUB66_RFP = MK_JUB66_RFP['arr_data']\n",
    "MK_JUB66_RFP = np.array(MK_JUB66_RFP)"
   ]
  },
  {
   "cell_type": "markdown",
   "metadata": {},
   "source": [
    "## look at sample array lengths"
   ]
  },
  {
   "cell_type": "code",
   "execution_count": 86,
   "metadata": {},
   "outputs": [
    {
     "name": "stdout",
     "output_type": "stream",
     "text": [
      "2457\n",
      "2487\n",
      "2517\n",
      "2769\n",
      "2916\n",
      "3168\n",
      "3240\n",
      "3264\n",
      "2694\n",
      "2874\n",
      "2346\n",
      "2973\n",
      "2802\n",
      "2952\n",
      "2805\n",
      "3092\n",
      "2943\n",
      "2805\n",
      "2877\n",
      "3057\n",
      "2499\n",
      "2634\n",
      "2394\n",
      "2469\n",
      "2631\n",
      "2781\n",
      "2619\n",
      "2667\n",
      "2592\n",
      "2556\n"
     ]
    }
   ],
   "source": [
    "for sample in JUB66_RFP:\n",
    "  print(len(sample))\n",
    "\n",
    "#for sample in JUB66_RFP_IN_CEMBIO:\n",
    "#  print(len(sample))\n",
    "\n",
    "#for sample in MK_JUB66_RFP:\n",
    "#  print(len(sample))"
   ]
  },
  {
   "cell_type": "markdown",
   "metadata": {},
   "source": [
    "## loop through each sample in JUB66_RFP and split the array into 3rds"
   ]
  },
  {
   "cell_type": "code",
   "execution_count": 99,
   "metadata": {},
   "outputs": [
    {
     "name": "stdout",
     "output_type": "stream",
     "text": [
      "                     ID                                           arr_data   \n",
      "0    Part 1 of Sample 1  [0.011764705882352941, 0.011764705882352941, 0...  \\\n",
      "1    Part 2 of Sample 1  [0.02583352407110704, 0.023529411764705882, 0....   \n",
      "2    Part 3 of Sample 1  [0.026672770275425344, 0.019562066071564813, 0...   \n",
      "3    Part 1 of Sample 2  [0.010910200656137941, 0.011764705882352941, 0...   \n",
      "4    Part 2 of Sample 2  [0.013183794918745708, 0.011764705882352941, 0...   \n",
      "..                  ...                                                ...   \n",
      "85  Part 2 of Sample 29  [0.0, 0.0, 0.0, 0.0, 0.0, 0.0, 0.0, 0.0, 0.0, ...   \n",
      "86  Part 3 of Sample 29  [0.0, 0.0, 0.0, 0.0, 0.0, 0.0, 0.0, 0.0, 0.0, ...   \n",
      "87  Part 1 of Sample 30  [0.011764705882352941, 0.011764705882352941, 0...   \n",
      "88  Part 2 of Sample 30  [0.011581597619592585, 0.011718928816662852, 0...   \n",
      "89  Part 3 of Sample 30  [0.011764705882352941, 0.011764705882352941, 0...   \n",
      "\n",
      "      row_sum  \n",
      "0   17.948775  \n",
      "1   23.260716  \n",
      "2   18.861952  \n",
      "3   13.045731  \n",
      "4   14.105211  \n",
      "..        ...  \n",
      "85   0.000000  \n",
      "86   0.000000  \n",
      "87  11.059327  \n",
      "88  11.021332  \n",
      "89  10.101854  \n",
      "\n",
      "[90 rows x 3 columns]\n"
     ]
    }
   ],
   "source": [
    "new_array = []\n",
    "\n",
    "# Loop through each sample in JUB66_RFP\n",
    "for index, sample in enumerate(JUB66_RFP):\n",
    "    for divisor in range(1, len(sample)):\n",
    "        if len(sample) % divisor == 3:\n",
    "            \n",
    "            # Split the sample into three parts\n",
    "            split_sample = np.array_split(sample, len(sample) % divisor)\n",
    "    \n",
    "            # Append the split sample along with the part label to the new array\n",
    "            for part_index, part in enumerate(split_sample):\n",
    "                part_label = f\"Part {part_index+1} of Sample {index+1}\"\n",
    "                new_array.append((part_label, part))\n",
    "            \n",
    "            # Stop the loop at the first divisor that yields a remainder of 3\n",
    "            break\n",
    "                \n",
    "JUB66_RFP_df = pd.DataFrame(new_array) \n",
    "\n",
    "JUB66_RFP_df.columns = ['ID', 'arr_data']\n",
    "\n",
    "# Create a new column to store the row sums\n",
    "JUB66_RFP_df['row_sum'] = 0\n",
    "\n",
    "# Iterate through each sample in the dataframe\n",
    "for index, row in JUB66_RFP_df.iterrows():\n",
    "    # Calculate the sum of the array or row\n",
    "    row_sum = sum(row['arr_data'])\n",
    "    \n",
    "    # Assign the row sum to the 'row_sum' column\n",
    "    JUB66_RFP_df.at[index, 'row_sum'] = row_sum\n",
    "    \n",
    "# Print the updated dataframe\n",
    "print(JUB66_RFP_df)\n",
    "\n",
    "# New column values\n",
    "new_column = np.repeat('JUB66_RFP', len(JUB66_RFP_df))\n",
    "# Add a new column to the DataFrame\n",
    "JUB66_RFP_df['diet'] = new_column"
   ]
  },
  {
   "cell_type": "markdown",
   "metadata": {},
   "source": [
    "## loop through each sample in JUB66_RFP_IN_CEMBIO and split the array into 3rds"
   ]
  },
  {
   "cell_type": "code",
   "execution_count": 100,
   "metadata": {},
   "outputs": [
    {
     "name": "stdout",
     "output_type": "stream",
     "text": [
      "                     ID                                           arr_data   \n",
      "0    Part 1 of Sample 1  [0.011764705882352941, 0.03221179522392614, 0....  \\\n",
      "1    Part 2 of Sample 1  [0.011764705882352941, 0.011764705882352941, 0...   \n",
      "2    Part 3 of Sample 1  [0.014389257648584725, 0.017593652246890974, 0...   \n",
      "3    Part 1 of Sample 2  [0.6690318150606546, 0.5569695582513161, 0.365...   \n",
      "4    Part 2 of Sample 2  [0.01715114061188678, 0.017746242465857938, 0....   \n",
      "..                  ...                                                ...   \n",
      "85  Part 2 of Sample 29  [0.01568627450980392, 0.01568627450980392, 0.0...   \n",
      "86  Part 3 of Sample 29  [0.013168535896849012, 0.011764705882352941, 0...   \n",
      "87  Part 1 of Sample 30  [0.010589761196307317, 0.011764705882352941, 0...   \n",
      "88  Part 2 of Sample 30  [0.011764705882352941, 0.011764705882352941, 0...   \n",
      "89  Part 3 of Sample 30  [0.01568627450980392, 0.014404516670481423, 0....   \n",
      "\n",
      "      row_sum  \n",
      "0   21.141360  \n",
      "1   12.073915  \n",
      "2   12.856672  \n",
      "3   26.851820  \n",
      "4   33.669032  \n",
      "..        ...  \n",
      "85  19.315404  \n",
      "86  14.016892  \n",
      "87  27.139940  \n",
      "88  16.629389  \n",
      "89  30.859602  \n",
      "\n",
      "[90 rows x 3 columns]\n"
     ]
    }
   ],
   "source": [
    "new_array = []\n",
    "\n",
    "# Loop through each sample in JUB66_RFP_IN_CEMBIO\n",
    "for index, sample in enumerate(JUB66_RFP_IN_CEMBIO):\n",
    "    for divisor in range(1, len(sample)):\n",
    "        if len(sample) % divisor == 3:\n",
    "            \n",
    "            # Split the sample into three parts\n",
    "            split_sample = np.array_split(sample, len(sample) % divisor)\n",
    "    \n",
    "            # Append the split sample along with the part label to the new array\n",
    "            for part_index, part in enumerate(split_sample):\n",
    "                part_label = f\"Part {part_index+1} of Sample {index+1}\"\n",
    "                new_array.append((part_label, part))     \n",
    "            \n",
    "            # Stop the loop at the first divisor that yields a remainder of 3\n",
    "            break\n",
    "        \n",
    "JUB66_RFP_IN_CEMBIO_df = pd.DataFrame(new_array) \n",
    "\n",
    "JUB66_RFP_IN_CEMBIO_df.columns = ['ID', 'arr_data']\n",
    "\n",
    "# Create a new column to store the row sums\n",
    "JUB66_RFP_IN_CEMBIO_df['row_sum'] = 0\n",
    "\n",
    "# Iterate through each sample in the dataframe\n",
    "for index, row in JUB66_RFP_IN_CEMBIO_df.iterrows():\n",
    "    # Calculate the sum of the array or row\n",
    "    row_sum = sum(row['arr_data'])\n",
    "    \n",
    "    # Assign the row sum to the 'row_sum' column\n",
    "    JUB66_RFP_IN_CEMBIO_df.at[index, 'row_sum'] = row_sum\n",
    "    \n",
    "# Print the updated dataframe\n",
    "print(JUB66_RFP_IN_CEMBIO_df)\n",
    "\n",
    "# New column values\n",
    "new_column = np.repeat('JUB66_RFP_IN_CEMBIO', len(JUB66_RFP_IN_CEMBIO_df))\n",
    "# Add a new column to the DataFrame\n",
    "JUB66_RFP_IN_CEMBIO_df['diet'] = new_column"
   ]
  },
  {
   "cell_type": "markdown",
   "metadata": {},
   "source": [
    "## loop through each sample in MK_JUB66_RFP and split the array into 3rds"
   ]
  },
  {
   "cell_type": "code",
   "execution_count": 101,
   "metadata": {},
   "outputs": [
    {
     "name": "stdout",
     "output_type": "stream",
     "text": [
      "                     ID                                           arr_data   \n",
      "0    Part 1 of Sample 1  [0.01095597772182803, 0.014297703517204547, 0....  \\\n",
      "1    Part 2 of Sample 1  [0.02340733958953231, 0.020950637064164186, 0....   \n",
      "2    Part 3 of Sample 1  [0.011764705882352941, 0.011764705882352941, 0...   \n",
      "3    Part 1 of Sample 2  [0.011764705882352941, 0.011764705882352941, 0...   \n",
      "4    Part 2 of Sample 2  [0.011154345006485085, 0.011764705882352941, 0...   \n",
      "..                  ...                                                ...   \n",
      "85  Part 2 of Sample 29  [0.011764705882352941, 0.011764705882352941, 0...   \n",
      "86  Part 3 of Sample 29  [0.011764705882352941, 0.011764705882352941, 0...   \n",
      "87  Part 1 of Sample 30  [0.011764705882352941, 0.011764705882352941, 0...   \n",
      "88  Part 2 of Sample 30  [0.011764705882352941, 0.011764705882352941, 0...   \n",
      "89  Part 3 of Sample 30  [0.01211566338597696, 0.01568627450980392, 0.0...   \n",
      "\n",
      "      row_sum  \n",
      "0   12.096284  \n",
      "1   11.649348  \n",
      "2   11.285985  \n",
      "3   10.600214  \n",
      "4   10.047486  \n",
      "..        ...  \n",
      "85  17.347829  \n",
      "86  14.939513  \n",
      "87  16.289174  \n",
      "88  15.235981  \n",
      "89  14.867353  \n",
      "\n",
      "[90 rows x 3 columns]\n"
     ]
    }
   ],
   "source": [
    "new_array = []\n",
    "\n",
    "# Loop through each sample in MK_JUB66_RFP\n",
    "for index, sample in enumerate(MK_JUB66_RFP):\n",
    "    for divisor in range(1, len(sample)):\n",
    "        if len(sample) % divisor == 3:\n",
    "            \n",
    "            # Split the sample into three parts\n",
    "            split_sample = np.array_split(sample, len(sample) % divisor)\n",
    "    \n",
    "            # Append the split sample along with the part label to the new array\n",
    "            for part_index, part in enumerate(split_sample):\n",
    "                part_label = f\"Part {part_index+1} of Sample {index+1}\"\n",
    "                new_array.append((part_label, part))     \n",
    "            \n",
    "            # Stop the loop at the first divisor that yields a remainder of 3\n",
    "            break\n",
    "\n",
    "MK_JUB66_RFP_df = pd.DataFrame(new_array) \n",
    "\n",
    "MK_JUB66_RFP_df.columns = ['ID', 'arr_data']\n",
    "\n",
    "# Create a new column to store the row sums\n",
    "MK_JUB66_RFP_df['row_sum'] = 0\n",
    "\n",
    "# Iterate through each sample in the dataframe\n",
    "for index, row in MK_JUB66_RFP_df.iterrows():\n",
    "    # Calculate the sum of the array or row\n",
    "    row_sum = sum(row['arr_data'])\n",
    "    \n",
    "    # Assign the row sum to the 'row_sum' column\n",
    "    MK_JUB66_RFP_df.at[index, 'row_sum'] = row_sum\n",
    "    \n",
    "# Print the updated dataframe\n",
    "print(MK_JUB66_RFP_df)\n",
    "\n",
    "# New column values\n",
    "new_column = np.repeat('MK_JUB66_RFP', len(MK_JUB66_RFP_df))\n",
    "# Add a new column to the DataFrame\n",
    "MK_JUB66_RFP_df['diet'] = new_column"
   ]
  },
  {
   "cell_type": "markdown",
   "metadata": {},
   "source": [
    "## Combine all the seperate DFs back into one"
   ]
  },
  {
   "cell_type": "code",
   "execution_count": 102,
   "metadata": {},
   "outputs": [
    {
     "name": "stdout",
     "output_type": "stream",
     "text": [
      "                     ID                                           arr_data   \n",
      "0    Part 1 of Sample 1  [0.011764705882352941, 0.011764705882352941, 0...  \\\n",
      "1    Part 2 of Sample 1  [0.02583352407110704, 0.023529411764705882, 0....   \n",
      "2    Part 3 of Sample 1  [0.026672770275425344, 0.019562066071564813, 0...   \n",
      "3    Part 1 of Sample 2  [0.010910200656137941, 0.011764705882352941, 0...   \n",
      "4    Part 2 of Sample 2  [0.013183794918745708, 0.011764705882352941, 0...   \n",
      "..                  ...                                                ...   \n",
      "85  Part 2 of Sample 29  [0.011764705882352941, 0.011764705882352941, 0...   \n",
      "86  Part 3 of Sample 29  [0.011764705882352941, 0.011764705882352941, 0...   \n",
      "87  Part 1 of Sample 30  [0.011764705882352941, 0.011764705882352941, 0...   \n",
      "88  Part 2 of Sample 30  [0.011764705882352941, 0.011764705882352941, 0...   \n",
      "89  Part 3 of Sample 30  [0.01211566338597696, 0.01568627450980392, 0.0...   \n",
      "\n",
      "      row_sum          diet  \n",
      "0   17.948775     JUB66_RFP  \n",
      "1   23.260716     JUB66_RFP  \n",
      "2   18.861952     JUB66_RFP  \n",
      "3   13.045731     JUB66_RFP  \n",
      "4   14.105211     JUB66_RFP  \n",
      "..        ...           ...  \n",
      "85  17.347829  MK_JUB66_RFP  \n",
      "86  14.939513  MK_JUB66_RFP  \n",
      "87  16.289174  MK_JUB66_RFP  \n",
      "88  15.235981  MK_JUB66_RFP  \n",
      "89  14.867353  MK_JUB66_RFP  \n",
      "\n",
      "[270 rows x 4 columns]\n"
     ]
    }
   ],
   "source": [
    "combined_df = pd.concat([JUB66_RFP_df, JUB66_RFP_IN_CEMBIO_df, MK_JUB66_RFP_df])\n",
    "print(combined_df)"
   ]
  },
  {
   "cell_type": "markdown",
   "metadata": {},
   "source": [
    "# Make a new column called 'part' to assign a region for each observation"
   ]
  },
  {
   "cell_type": "code",
   "execution_count": 104,
   "metadata": {},
   "outputs": [
    {
     "data": {
      "text/html": [
       "<div>\n",
       "<style scoped>\n",
       "    .dataframe tbody tr th:only-of-type {\n",
       "        vertical-align: middle;\n",
       "    }\n",
       "\n",
       "    .dataframe tbody tr th {\n",
       "        vertical-align: top;\n",
       "    }\n",
       "\n",
       "    .dataframe thead th {\n",
       "        text-align: right;\n",
       "    }\n",
       "</style>\n",
       "<table border=\"1\" class=\"dataframe\">\n",
       "  <thead>\n",
       "    <tr style=\"text-align: right;\">\n",
       "      <th></th>\n",
       "      <th>ID</th>\n",
       "      <th>arr_data</th>\n",
       "      <th>row_sum</th>\n",
       "      <th>diet</th>\n",
       "      <th>part</th>\n",
       "    </tr>\n",
       "  </thead>\n",
       "  <tbody>\n",
       "    <tr>\n",
       "      <th>0</th>\n",
       "      <td>Part 1 of Sample 1</td>\n",
       "      <td>[0.011764705882352941, 0.011764705882352941, 0...</td>\n",
       "      <td>17.948775</td>\n",
       "      <td>JUB66_RFP</td>\n",
       "      <td>part 1</td>\n",
       "    </tr>\n",
       "    <tr>\n",
       "      <th>1</th>\n",
       "      <td>Part 2 of Sample 1</td>\n",
       "      <td>[0.02583352407110704, 0.023529411764705882, 0....</td>\n",
       "      <td>23.260716</td>\n",
       "      <td>JUB66_RFP</td>\n",
       "      <td>part 2</td>\n",
       "    </tr>\n",
       "    <tr>\n",
       "      <th>2</th>\n",
       "      <td>Part 3 of Sample 1</td>\n",
       "      <td>[0.026672770275425344, 0.019562066071564813, 0...</td>\n",
       "      <td>18.861952</td>\n",
       "      <td>JUB66_RFP</td>\n",
       "      <td>part 3</td>\n",
       "    </tr>\n",
       "    <tr>\n",
       "      <th>3</th>\n",
       "      <td>Part 1 of Sample 2</td>\n",
       "      <td>[0.010910200656137941, 0.011764705882352941, 0...</td>\n",
       "      <td>13.045731</td>\n",
       "      <td>JUB66_RFP</td>\n",
       "      <td>part 1</td>\n",
       "    </tr>\n",
       "    <tr>\n",
       "      <th>4</th>\n",
       "      <td>Part 2 of Sample 2</td>\n",
       "      <td>[0.013183794918745708, 0.011764705882352941, 0...</td>\n",
       "      <td>14.105211</td>\n",
       "      <td>JUB66_RFP</td>\n",
       "      <td>part 2</td>\n",
       "    </tr>\n",
       "    <tr>\n",
       "      <th>...</th>\n",
       "      <td>...</td>\n",
       "      <td>...</td>\n",
       "      <td>...</td>\n",
       "      <td>...</td>\n",
       "      <td>...</td>\n",
       "    </tr>\n",
       "    <tr>\n",
       "      <th>85</th>\n",
       "      <td>Part 2 of Sample 29</td>\n",
       "      <td>[0.011764705882352941, 0.011764705882352941, 0...</td>\n",
       "      <td>17.347829</td>\n",
       "      <td>MK_JUB66_RFP</td>\n",
       "      <td>part 2</td>\n",
       "    </tr>\n",
       "    <tr>\n",
       "      <th>86</th>\n",
       "      <td>Part 3 of Sample 29</td>\n",
       "      <td>[0.011764705882352941, 0.011764705882352941, 0...</td>\n",
       "      <td>14.939513</td>\n",
       "      <td>MK_JUB66_RFP</td>\n",
       "      <td>part 3</td>\n",
       "    </tr>\n",
       "    <tr>\n",
       "      <th>87</th>\n",
       "      <td>Part 1 of Sample 30</td>\n",
       "      <td>[0.011764705882352941, 0.011764705882352941, 0...</td>\n",
       "      <td>16.289174</td>\n",
       "      <td>MK_JUB66_RFP</td>\n",
       "      <td>part 1</td>\n",
       "    </tr>\n",
       "    <tr>\n",
       "      <th>88</th>\n",
       "      <td>Part 2 of Sample 30</td>\n",
       "      <td>[0.011764705882352941, 0.011764705882352941, 0...</td>\n",
       "      <td>15.235981</td>\n",
       "      <td>MK_JUB66_RFP</td>\n",
       "      <td>part 2</td>\n",
       "    </tr>\n",
       "    <tr>\n",
       "      <th>89</th>\n",
       "      <td>Part 3 of Sample 30</td>\n",
       "      <td>[0.01211566338597696, 0.01568627450980392, 0.0...</td>\n",
       "      <td>14.867353</td>\n",
       "      <td>MK_JUB66_RFP</td>\n",
       "      <td>part 3</td>\n",
       "    </tr>\n",
       "  </tbody>\n",
       "</table>\n",
       "<p>270 rows × 5 columns</p>\n",
       "</div>"
      ],
      "text/plain": [
       "                     ID                                           arr_data   \n",
       "0    Part 1 of Sample 1  [0.011764705882352941, 0.011764705882352941, 0...  \\\n",
       "1    Part 2 of Sample 1  [0.02583352407110704, 0.023529411764705882, 0....   \n",
       "2    Part 3 of Sample 1  [0.026672770275425344, 0.019562066071564813, 0...   \n",
       "3    Part 1 of Sample 2  [0.010910200656137941, 0.011764705882352941, 0...   \n",
       "4    Part 2 of Sample 2  [0.013183794918745708, 0.011764705882352941, 0...   \n",
       "..                  ...                                                ...   \n",
       "85  Part 2 of Sample 29  [0.011764705882352941, 0.011764705882352941, 0...   \n",
       "86  Part 3 of Sample 29  [0.011764705882352941, 0.011764705882352941, 0...   \n",
       "87  Part 1 of Sample 30  [0.011764705882352941, 0.011764705882352941, 0...   \n",
       "88  Part 2 of Sample 30  [0.011764705882352941, 0.011764705882352941, 0...   \n",
       "89  Part 3 of Sample 30  [0.01211566338597696, 0.01568627450980392, 0.0...   \n",
       "\n",
       "      row_sum          diet    part  \n",
       "0   17.948775     JUB66_RFP  part 1  \n",
       "1   23.260716     JUB66_RFP  part 2  \n",
       "2   18.861952     JUB66_RFP  part 3  \n",
       "3   13.045731     JUB66_RFP  part 1  \n",
       "4   14.105211     JUB66_RFP  part 2  \n",
       "..        ...           ...     ...  \n",
       "85  17.347829  MK_JUB66_RFP  part 2  \n",
       "86  14.939513  MK_JUB66_RFP  part 3  \n",
       "87  16.289174  MK_JUB66_RFP  part 1  \n",
       "88  15.235981  MK_JUB66_RFP  part 2  \n",
       "89  14.867353  MK_JUB66_RFP  part 3  \n",
       "\n",
       "[270 rows x 5 columns]"
      ]
     },
     "execution_count": 104,
     "metadata": {},
     "output_type": "execute_result"
    }
   ],
   "source": [
    "seq = ['part 1', 'part 2', 'part 3']\n",
    "repeat_seq = seq * 90 \n",
    "#print(repeat_seq)\n",
    "#len(repeat_seq)\n",
    "combined_df = combined_df.assign(part=repeat_seq)\n",
    "combined_df"
   ]
  },
  {
   "cell_type": "markdown",
   "metadata": {},
   "source": [
    "-----"
   ]
  },
  {
   "cell_type": "markdown",
   "metadata": {},
   "source": [
    "# Graph the data"
   ]
  },
  {
   "cell_type": "code",
   "execution_count": 105,
   "metadata": {},
   "outputs": [
    {
     "data": {
      "image/png": "[encoded data removed]",
      "text/plain": [
       "<Figure size 808.25x600 with 1 Axes>"
      ]
     },
     "metadata": {},
     "output_type": "display_data"
    }
   ],
   "source": [
    "g = sns.catplot(\n",
    "    data=combined_df, kind=\"bar\",\n",
    "    x=\"part\", y=\"row_sum\", hue=\"diet\",\n",
    "    errorbar=\"se\", palette=\"dark\", alpha=.6, height=6\n",
    ")\n",
    "g.despine(left=True)\n",
    "g.set_axis_labels(\"\", \"intensity\")\n",
    "g.legend.set_title(\"\")"
   ]
  },
  {
   "cell_type": "code",
   "execution_count": 106,
   "metadata": {},
   "outputs": [
    {
     "data": {
      "text/plain": [
       "<seaborn.axisgrid.FacetGrid at 0x19bd11e10>"
      ]
     },
     "execution_count": 106,
     "metadata": {},
     "output_type": "execute_result"
    },
    {
     "data": {
      "image/png": "[encoded data removed]",
      "text/plain": [
       "<Figure size 682x600 with 1 Axes>"
      ]
     },
     "metadata": {},
     "output_type": "display_data"
    }
   ],
   "source": [
    "sns.set_theme(style=\"whitegrid\")\n",
    "\n",
    "# Draw a pointplot to show pulse as a function of three categorical factors\n",
    "g = sns.catplot(\n",
    "    data=combined_df, x=\"part\", y=\"row_sum\", hue=\"diet\",\n",
    "    capsize=.2, palette=\"YlGnBu_d\", errorbar=\"se\",\n",
    "    kind=\"point\", height=6, aspect=.75,\n",
    ")\n",
    "g.despine(left=True)"
   ]
  },
  {
   "cell_type": "code",
   "execution_count": 107,
   "metadata": {},
   "outputs": [
    {
     "data": {
      "text/plain": [
       "[Text(0, 0.5, '')]"
      ]
     },
     "execution_count": 107,
     "metadata": {},
     "output_type": "execute_result"
    },
    {
     "data": {
      "image/png": "[encoded data removed]",
      "text/plain": [
       "<Figure size 640x480 with 1 Axes>"
      ]
     },
     "metadata": {},
     "output_type": "display_data"
    }
   ],
   "source": [
    "sns.set_theme(style=\"whitegrid\", palette=\"muted\")\n",
    "\n",
    "# Draw a categorical scatterplot to show each observation\n",
    "#ax = sns.swarmplot(data=combined_df, x=\"row_sum\", y=\"part\", hue=\"diet\")\n",
    "#ax.set(ylabel=\"\")\n",
    "\n",
    "ax = sns.stripplot(data=combined_df, x=\"row_sum\", y=\"part\", hue=\"diet\")\n",
    "ax.set(ylabel=\"\")"
   ]
  },
  {
   "cell_type": "code",
   "execution_count": 108,
   "metadata": {},
   "outputs": [
    {
     "data": {
      "text/plain": [
       "<Axes: xlabel='part', ylabel='row_sum'>"
      ]
     },
     "execution_count": 108,
     "metadata": {},
     "output_type": "execute_result"
    },
    {
     "data": {
      "image/png": "[encoded data removed]",
      "text/plain": [
       "<Figure size 640x480 with 1 Axes>"
      ]
     },
     "metadata": {},
     "output_type": "display_data"
    }
   ],
   "source": [
    "sns.set_theme(style=\"darkgrid\")\n",
    "\n",
    "# Plot the responses for different events and regions\n",
    "sns.lineplot(x=\"part\", y=\"row_sum\",\n",
    "             hue=\"diet\",\n",
    "             data=combined_df)"
   ]
  },
  {
   "cell_type": "code",
   "execution_count": 109,
   "metadata": {},
   "outputs": [
    {
     "data": {
      "text/plain": [
       "(array([1, 2, 3, 4, 5, 6, 7, 8, 9]),\n",
       " [Text(1, 0, '(part 1, JUB66_RFP)'),\n",
       "  Text(2, 0, '(part 1, JUB66_RFP_IN_CEMBIO)'),\n",
       "  Text(3, 0, '(part 1, MK_JUB66_RFP)'),\n",
       "  Text(4, 0, '(part 2, JUB66_RFP)'),\n",
       "  Text(5, 0, '(part 2, JUB66_RFP_IN_CEMBIO)'),\n",
       "  Text(6, 0, '(part 2, MK_JUB66_RFP)'),\n",
       "  Text(7, 0, '(part 3, JUB66_RFP)'),\n",
       "  Text(8, 0, '(part 3, JUB66_RFP_IN_CEMBIO)'),\n",
       "  Text(9, 0, '(part 3, MK_JUB66_RFP)')])"
      ]
     },
     "execution_count": 109,
     "metadata": {},
     "output_type": "execute_result"
    },
    {
     "data": {
      "image/png": "[encoded data removed]",
      "text/plain": [
       "<Figure size 1600x900 with 1 Axes>"
      ]
     },
     "metadata": {},
     "output_type": "display_data"
    }
   ],
   "source": [
    "boxplot = combined_df.boxplot([\"row_sum\"], by = [\"part\", \"diet\"],\n",
    "                     figsize = (16, 9),\n",
    "                     showmeans = True,\n",
    "                     notch = True)\n",
    "\n",
    "boxplot.set_xlabel(\"Categories\")\n",
    "boxplot.set_ylabel(\"intensity\")\n",
    "plt.xticks(rotation=45)"
   ]
  },
  {
   "cell_type": "markdown",
   "metadata": {},
   "source": [
    "------"
   ]
  },
  {
   "cell_type": "markdown",
   "metadata": {},
   "source": [
    "## Linear mixed effects model"
   ]
  },
  {
   "cell_type": "code",
   "execution_count": 110,
   "metadata": {},
   "outputs": [
    {
     "name": "stdout",
     "output_type": "stream",
     "text": [
      "\n",
      "\n"
     ]
    },
    {
     "data": {
      "text/html": [
       "<div>\n",
       "<style scoped>\n",
       "    .dataframe tbody tr th:only-of-type {\n",
       "        vertical-align: middle;\n",
       "    }\n",
       "\n",
       "    .dataframe tbody tr th {\n",
       "        vertical-align: top;\n",
       "    }\n",
       "\n",
       "    .dataframe thead th {\n",
       "        text-align: right;\n",
       "    }\n",
       "</style>\n",
       "<table border=\"1\" class=\"dataframe\">\n",
       "  <thead>\n",
       "    <tr style=\"text-align: right;\">\n",
       "      <th></th>\n",
       "      <th></th>\n",
       "      <th>N</th>\n",
       "      <th>Mean</th>\n",
       "      <th>SD</th>\n",
       "      <th>SE</th>\n",
       "      <th>95% Conf.</th>\n",
       "      <th>Interval</th>\n",
       "    </tr>\n",
       "    <tr>\n",
       "      <th>diet</th>\n",
       "      <th>part</th>\n",
       "      <th></th>\n",
       "      <th></th>\n",
       "      <th></th>\n",
       "      <th></th>\n",
       "      <th></th>\n",
       "      <th></th>\n",
       "    </tr>\n",
       "  </thead>\n",
       "  <tbody>\n",
       "    <tr>\n",
       "      <th rowspan=\"3\" valign=\"top\">JUB66_RFP</th>\n",
       "      <th>part 1</th>\n",
       "      <td>30</td>\n",
       "      <td>17.4806</td>\n",
       "      <td>8.5553</td>\n",
       "      <td>1.5620</td>\n",
       "      <td>14.2860</td>\n",
       "      <td>20.6752</td>\n",
       "    </tr>\n",
       "    <tr>\n",
       "      <th>part 2</th>\n",
       "      <td>30</td>\n",
       "      <td>21.5130</td>\n",
       "      <td>17.7734</td>\n",
       "      <td>3.2450</td>\n",
       "      <td>14.8763</td>\n",
       "      <td>28.1497</td>\n",
       "    </tr>\n",
       "    <tr>\n",
       "      <th>part 3</th>\n",
       "      <td>30</td>\n",
       "      <td>23.6749</td>\n",
       "      <td>16.9218</td>\n",
       "      <td>3.0895</td>\n",
       "      <td>17.3562</td>\n",
       "      <td>29.9936</td>\n",
       "    </tr>\n",
       "    <tr>\n",
       "      <th rowspan=\"3\" valign=\"top\">JUB66_RFP_IN_CEMBIO</th>\n",
       "      <th>part 1</th>\n",
       "      <td>30</td>\n",
       "      <td>20.9553</td>\n",
       "      <td>8.8039</td>\n",
       "      <td>1.6074</td>\n",
       "      <td>17.6678</td>\n",
       "      <td>24.2427</td>\n",
       "    </tr>\n",
       "    <tr>\n",
       "      <th>part 2</th>\n",
       "      <td>30</td>\n",
       "      <td>20.4982</td>\n",
       "      <td>10.1482</td>\n",
       "      <td>1.8528</td>\n",
       "      <td>16.7088</td>\n",
       "      <td>24.2876</td>\n",
       "    </tr>\n",
       "    <tr>\n",
       "      <th>part 3</th>\n",
       "      <td>30</td>\n",
       "      <td>16.7985</td>\n",
       "      <td>8.2169</td>\n",
       "      <td>1.5002</td>\n",
       "      <td>13.7303</td>\n",
       "      <td>19.8668</td>\n",
       "    </tr>\n",
       "    <tr>\n",
       "      <th rowspan=\"3\" valign=\"top\">MK_JUB66_RFP</th>\n",
       "      <th>part 1</th>\n",
       "      <td>30</td>\n",
       "      <td>14.0384</td>\n",
       "      <td>3.7108</td>\n",
       "      <td>0.6775</td>\n",
       "      <td>12.6527</td>\n",
       "      <td>15.4240</td>\n",
       "    </tr>\n",
       "    <tr>\n",
       "      <th>part 2</th>\n",
       "      <td>30</td>\n",
       "      <td>13.2290</td>\n",
       "      <td>3.4601</td>\n",
       "      <td>0.6317</td>\n",
       "      <td>11.9369</td>\n",
       "      <td>14.5210</td>\n",
       "    </tr>\n",
       "    <tr>\n",
       "      <th>part 3</th>\n",
       "      <td>30</td>\n",
       "      <td>12.5210</td>\n",
       "      <td>2.9956</td>\n",
       "      <td>0.5469</td>\n",
       "      <td>11.4024</td>\n",
       "      <td>13.6396</td>\n",
       "    </tr>\n",
       "  </tbody>\n",
       "</table>\n",
       "</div>"
      ],
      "text/plain": [
       "                             N     Mean       SD      SE  95% Conf.  Interval\n",
       "diet                part                                                     \n",
       "JUB66_RFP           part 1  30  17.4806   8.5553  1.5620    14.2860   20.6752\n",
       "                    part 2  30  21.5130  17.7734  3.2450    14.8763   28.1497\n",
       "                    part 3  30  23.6749  16.9218  3.0895    17.3562   29.9936\n",
       "JUB66_RFP_IN_CEMBIO part 1  30  20.9553   8.8039  1.6074    17.6678   24.2427\n",
       "                    part 2  30  20.4982  10.1482  1.8528    16.7088   24.2876\n",
       "                    part 3  30  16.7985   8.2169  1.5002    13.7303   19.8668\n",
       "MK_JUB66_RFP        part 1  30  14.0384   3.7108  0.6775    12.6527   15.4240\n",
       "                    part 2  30  13.2290   3.4601  0.6317    11.9369   14.5210\n",
       "                    part 3  30  12.5210   2.9956  0.5469    11.4024   13.6396"
      ]
     },
     "execution_count": 110,
     "metadata": {},
     "output_type": "execute_result"
    }
   ],
   "source": [
    "# lets look at the row_sum based on their diet and the part grouping.\n",
    "rp.summary_cont(combined_df.groupby([\"diet\", \"part\"])[\"row_sum\"])"
   ]
  },
  {
   "cell_type": "code",
   "execution_count": 111,
   "metadata": {},
   "outputs": [
    {
     "data": {
      "text/html": [
       "<table class=\"simpletable\">\n",
       "<tr>\n",
       "       <td>Model:</td>       <td>MixedLM</td> <td>Dependent Variable:</td>  <td>row_sum</td> \n",
       "</tr>\n",
       "<tr>\n",
       "  <td>No. Observations:</td>   <td>270</td>         <td>Method:</td>         <td>REML</td>   \n",
       "</tr>\n",
       "<tr>\n",
       "     <td>No. Groups:</td>      <td>90</td>          <td>Scale:</td>         <td>97.2510</td> \n",
       "</tr>\n",
       "<tr>\n",
       "  <td>Min. group size:</td>     <td>3</td>      <td>Log-Likelihood:</td>   <td>-993.8648</td>\n",
       "</tr>\n",
       "<tr>\n",
       "  <td>Max. group size:</td>     <td>3</td>        <td>Converged:</td>         <td>Yes</td>   \n",
       "</tr>\n",
       "<tr>\n",
       "  <td>Mean group size:</td>    <td>3.0</td>            <td></td>               <td></td>     \n",
       "</tr>\n",
       "</table>\n",
       "<table class=\"simpletable\">\n",
       "<tr>\n",
       "                          <td></td>                          <th>Coef.</th>  <th>Std.Err.</th>    <th>z</th>   <th>P>|z|</th> <th>[0.025</th>  <th>0.975]</th>\n",
       "</tr>\n",
       "<tr>\n",
       "  <th>Intercept</th>                                        <td>17.481</td>    <td>1.884</td>   <td>9.279</td> <td>0.000</td> <td>13.788</td>  <td>21.173</td>\n",
       "</tr>\n",
       "<tr>\n",
       "  <th>C(diet)[T.JUB66_RFP_IN_CEMBIO]</th>                    <td>3.475</td>    <td>2.546</td>   <td>1.365</td> <td>0.172</td> <td>-1.516</td>   <td>8.465</td>\n",
       "</tr>\n",
       "<tr>\n",
       "  <th>C(diet)[T.MK_JUB66_RFP]</th>                          <td>-3.442</td>    <td>2.546</td>  <td>-1.352</td> <td>0.176</td> <td>-8.433</td>   <td>1.548</td>\n",
       "</tr>\n",
       "<tr>\n",
       "  <th>C(part)[T.part 2]</th>                                 <td>4.032</td>    <td>2.664</td>   <td>1.514</td> <td>0.130</td> <td>-1.189</td>   <td>9.254</td>\n",
       "</tr>\n",
       "<tr>\n",
       "  <th>C(part)[T.part 3]</th>                                 <td>6.194</td>    <td>2.664</td>   <td>2.325</td> <td>0.020</td>  <td>0.973</td>  <td>11.416</td>\n",
       "</tr>\n",
       "<tr>\n",
       "  <th>C(diet)[T.JUB66_RFP_IN_CEMBIO]:C(part)[T.part 2]</th> <td>-4.489</td>    <td>3.601</td>  <td>-1.247</td> <td>0.212</td> <td>-11.547</td>  <td>2.568</td>\n",
       "</tr>\n",
       "<tr>\n",
       "  <th>C(diet)[T.MK_JUB66_RFP]:C(part)[T.part 2]</th>        <td>-4.842</td>    <td>3.601</td>  <td>-1.345</td> <td>0.179</td> <td>-11.899</td>  <td>2.216</td>\n",
       "</tr>\n",
       "<tr>\n",
       "  <th>C(diet)[T.JUB66_RFP_IN_CEMBIO]:C(part)[T.part 3]</th> <td>-10.351</td>   <td>3.601</td>  <td>-2.875</td> <td>0.004</td> <td>-17.409</td> <td>-3.293</td>\n",
       "</tr>\n",
       "<tr>\n",
       "  <th>C(diet)[T.MK_JUB66_RFP]:C(part)[T.part 3]</th>        <td>-7.712</td>    <td>3.601</td>  <td>-2.142</td> <td>0.032</td> <td>-14.769</td> <td>-0.654</td>\n",
       "</tr>\n",
       "<tr>\n",
       "  <th>ID Var</th>                                            <td>9.212</td>    <td>0.784</td>     <td></td>      <td></td>       <td></td>        <td></td>   \n",
       "</tr>\n",
       "</table>"
      ],
      "text/plain": [
       "<class 'statsmodels.iolib.summary2.Summary'>\n",
       "\"\"\"\n",
       "                            Mixed Linear Model Regression Results\n",
       "=============================================================================================\n",
       "Model:                          MixedLM             Dependent Variable:             row_sum  \n",
       "No. Observations:               270                 Method:                         REML     \n",
       "No. Groups:                     90                  Scale:                          97.2510  \n",
       "Min. group size:                3                   Log-Likelihood:                 -993.8648\n",
       "Max. group size:                3                   Converged:                      Yes      \n",
       "Mean group size:                3.0                                                          \n",
       "---------------------------------------------------------------------------------------------\n",
       "                                                  Coef.  Std.Err.   z    P>|z|  [0.025 0.975]\n",
       "---------------------------------------------------------------------------------------------\n",
       "Intercept                                         17.481    1.884  9.279 0.000  13.788 21.173\n",
       "C(diet)[T.JUB66_RFP_IN_CEMBIO]                     3.475    2.546  1.365 0.172  -1.516  8.465\n",
       "C(diet)[T.MK_JUB66_RFP]                           -3.442    2.546 -1.352 0.176  -8.433  1.548\n",
       "C(part)[T.part 2]                                  4.032    2.664  1.514 0.130  -1.189  9.254\n",
       "C(part)[T.part 3]                                  6.194    2.664  2.325 0.020   0.973 11.416\n",
       "C(diet)[T.JUB66_RFP_IN_CEMBIO]:C(part)[T.part 2]  -4.489    3.601 -1.247 0.212 -11.547  2.568\n",
       "C(diet)[T.MK_JUB66_RFP]:C(part)[T.part 2]         -4.842    3.601 -1.345 0.179 -11.899  2.216\n",
       "C(diet)[T.JUB66_RFP_IN_CEMBIO]:C(part)[T.part 3] -10.351    3.601 -2.875 0.004 -17.409 -3.293\n",
       "C(diet)[T.MK_JUB66_RFP]:C(part)[T.part 3]         -7.712    3.601 -2.142 0.032 -14.769 -0.654\n",
       "ID Var                                             9.212    0.784                            \n",
       "=============================================================================================\n",
       "\n",
       "\"\"\""
      ]
     },
     "execution_count": 111,
     "metadata": {},
     "output_type": "execute_result"
    }
   ],
   "source": [
    "# In a mixed effects model, you have two types of variables: fixed effects and random effects. Fixed effects represent variables that you are specifically interested in and want to estimate the effect size for. Random effects, on the other hand, capture the variability or correlation within certain grouping levels that you want to account for.\n",
    "\n",
    "model = smf.mixedlm(\"row_sum ~ C(diet) + C(part) + C(diet):C(part)\", combined_df, groups = \"ID\").fit()\n",
    "model.summary()\n",
    "\n",
    "# The \"groups\" parameter being set to \"part\" indicates that you want to account for the correlation within each level of the \"part\" variable. Thus, it is specified as the grouping variable for the random effects. \n",
    "# This suggests that your data has multiple measurements or observations nested within different \"part\" levels. By including \"part\" as a random effect, you are modeling the correlation or dependence among observations within the same \"part\" group. This acknowledges that observations within the same \"part\" may be more similar to each other than observations from different \"part\" groups.\n",
    "# By accounting for the correlation within each level of the \"part\" variable, the mixed effects model allows for more accurate estimation of the fixed effects and provides more reliable inference. It helps to handle the potential correlation structure in the data and can provide better predictions or interpretations."
   ]
  },
  {
   "cell_type": "markdown",
   "metadata": {},
   "source": [
    "------"
   ]
  },
  {
   "cell_type": "markdown",
   "metadata": {},
   "source": [
    "## Kolmogorov-Smirnov (KS) test for goodness of fit (non-parametric test)"
   ]
  },
  {
   "cell_type": "markdown",
   "metadata": {},
   "source": [
    "**Purpose:** test for differences in the shape of 2 sample distributions (or to compare to expected statistical distribution). Compares the overall shape of distributions.\n",
    "\n",
    "**Type of data:** univariate, continous data \n",
    "\n",
    "H0: Two samples drawn from populations with the same distribution\n",
    "\n",
    "**What it does:** test statistic D is the maximum absolute difference between the 2 comuluative distribution functions "
   ]
  },
  {
   "cell_type": "code",
   "execution_count": 115,
   "metadata": {},
   "outputs": [],
   "source": [
    "# need to use a version of the data prior to the arrays being split into thirds becuase the arrays dont split evenly\n",
    "\n",
    "JUB66_RFP_org = df[df['arr_values'] == 'JUB66_RFP']\n",
    "JUB66_RFP_org = JUB66_RFP_org['arr_data']\n",
    "JUB66_RFP_org = np.array(JUB66_RFP_org)\n",
    "\n",
    "JUB66_RFP_IN_CEMBIO_org = df[df['arr_values'] == 'JUB66_RFP_IN_CEMBIO']\n",
    "JUB66_RFP_IN_CEMBIO_org = JUB66_RFP_IN_CEMBIO_org['arr_data']\n",
    "JUB66_RFP_IN_CEMBIO_org = np.array(JUB66_RFP_IN_CEMBIO_org)\n",
    "\n",
    "MK_JUB66_RFP_org = df[df['arr_values'] == 'MK_JUB66_RFP_IN_JUB66']\n",
    "MK_JUB66_RFP_org = MK_JUB66_RFP_org['arr_data']\n",
    "MK_JUB66_RFP_org = np.array(MK_JUB66_RFP_org)\n",
    "\n",
    "#print(MK_JUB66_RFP_org)\n",
    "\n",
    "#for sample in MK_JUB66_RFP_org:\n",
    "#  print(len(sample))"
   ]
  },
  {
   "cell_type": "code",
   "execution_count": 131,
   "metadata": {},
   "outputs": [],
   "source": [
    "# use for raw data with variable array lengths\n",
    "\n",
    "def tolerant_mean(arrs):\n",
    "    lens = [len(i) for i in arrs]\n",
    "    arr = np.ma.empty((np.max(lens),len(arrs)))\n",
    "    arr.mask = True\n",
    "    for idx, l in enumerate(arrs):\n",
    "        arr[:len(l),idx] = l\n",
    "    return arr.mean(axis = -1), arr.std(axis=-1)"
   ]
  },
  {
   "cell_type": "code",
   "execution_count": 132,
   "metadata": {},
   "outputs": [
    {
     "name": "stdout",
     "output_type": "stream",
     "text": [
      "(masked_array(data=[0.016362757813890797, 0.02214643574680196,\n",
      "                   0.02280003051804379, ..., 0.011764705882352941,\n",
      "                   0.011306935225452048, 0.011764705882352941],\n",
      "             mask=[False, False, False, ..., False, False, False],\n",
      "       fill_value=1e+20), masked_array(data=[0.012072240425544566, 0.02990313327661444,\n",
      "                   0.02847453838301903, ..., 0.0, 0.0, 0.0],\n",
      "             mask=[False, False, False, ..., False, False, False],\n",
      "       fill_value=1e+20))\n",
      "(masked_array(data=[0.03363647923501436, 0.030707255664911868,\n",
      "                   0.029844612293685298, ..., 0.011764705882352941,\n",
      "                   0.011764705882352941, 0.011764705882352941],\n",
      "             mask=[False, False, False, ..., False, False, False],\n",
      "       fill_value=1e+20), masked_array(data=[0.11802492189484176, 0.09782809186538578,\n",
      "                   0.0696150699312551, ..., 0.0, 0.0, 0.0],\n",
      "             mask=[False, False, False, ..., False, False, False],\n",
      "       fill_value=1e+20))\n",
      "(masked_array(data=[0.011469189491620136, 0.012086162610309896,\n",
      "                   0.012377101294473577, ..., 0.011764705882352941,\n",
      "                   0.011764705882352941, 0.009735255970092317],\n",
      "             mask=[False, False, False, ..., False, False, False],\n",
      "       fill_value=1e+20), masked_array(data=[0.003008722855349887, 0.0027811632449479613,\n",
      "                   0.0029512245766117216, ..., 0.0, 0.0, 0.0],\n",
      "             mask=[False, False, False, ..., False, False, False],\n",
      "       fill_value=1e+20))\n"
     ]
    }
   ],
   "source": [
    "JUB66_RFP_avg = tolerant_mean(JUB66_RFP_org)\n",
    "JUB66_RFP_IN_CEMBIO_avg = tolerant_mean(JUB66_RFP_IN_CEMBIO_org)\n",
    "MK_JUB66_RFP_avg = tolerant_mean(MK_JUB66_RFP_org)\n",
    "\n",
    "print(JUB66_RFP_avg)\n",
    "print(JUB66_RFP_IN_CEMBIO_avg)\n",
    "print(MK_JUB66_RFP_avg)"
   ]
  },
  {
   "cell_type": "code",
   "execution_count": 116,
   "metadata": {},
   "outputs": [
    {
     "ename": "ValueError",
     "evalue": "operands could not be broadcast together with shapes (2457,) (2487,) ",
     "output_type": "error",
     "traceback": [
      "\u001b[0;31m---------------------------------------------------------------------------\u001b[0m",
      "\u001b[0;31mValueError\u001b[0m                                Traceback (most recent call last)",
      "Cell \u001b[0;32mIn[116], line 2\u001b[0m\n\u001b[1;32m      1\u001b[0m \u001b[38;5;66;03m# can also average all the samples within a group together and then compare the group averages with the KS test\u001b[39;00m\n\u001b[0;32m----> 2\u001b[0m JUB66_RFP_avg \u001b[38;5;241m=\u001b[39m \u001b[43mnp\u001b[49m\u001b[38;5;241;43m.\u001b[39;49m\u001b[43mmean\u001b[49m\u001b[43m(\u001b[49m\u001b[43mJUB66_RFP_org\u001b[49m\u001b[43m,\u001b[49m\u001b[43m \u001b[49m\u001b[43maxis\u001b[49m\u001b[38;5;241;43m=\u001b[39;49m\u001b[38;5;241;43m0\u001b[39;49m\u001b[43m)\u001b[49m\n\u001b[1;32m      3\u001b[0m JUB66_RFP_IN_CEMBIO_avg \u001b[38;5;241m=\u001b[39m np\u001b[38;5;241m.\u001b[39mmean(JUB66_RFP_IN_CEMBIO_org, axis\u001b[38;5;241m=\u001b[39m\u001b[38;5;241m0\u001b[39m)\n\u001b[1;32m      4\u001b[0m MK_JUB66_RFP_avg \u001b[38;5;241m=\u001b[39m np\u001b[38;5;241m.\u001b[39mmean(MK_JUB66_RFP_org, axis\u001b[38;5;241m=\u001b[39m\u001b[38;5;241m0\u001b[39m)\n",
      "File \u001b[0;32m<__array_function__ internals>:200\u001b[0m, in \u001b[0;36mmean\u001b[0;34m(*args, **kwargs)\u001b[0m\n",
      "File \u001b[0;32m~/opt/anaconda3/envs/edgelord/lib/python3.10/site-packages/numpy/core/fromnumeric.py:3464\u001b[0m, in \u001b[0;36mmean\u001b[0;34m(a, axis, dtype, out, keepdims, where)\u001b[0m\n\u001b[1;32m   3461\u001b[0m     \u001b[38;5;28;01melse\u001b[39;00m:\n\u001b[1;32m   3462\u001b[0m         \u001b[38;5;28;01mreturn\u001b[39;00m mean(axis\u001b[38;5;241m=\u001b[39maxis, dtype\u001b[38;5;241m=\u001b[39mdtype, out\u001b[38;5;241m=\u001b[39mout, \u001b[38;5;241m*\u001b[39m\u001b[38;5;241m*\u001b[39mkwargs)\n\u001b[0;32m-> 3464\u001b[0m \u001b[38;5;28;01mreturn\u001b[39;00m \u001b[43m_methods\u001b[49m\u001b[38;5;241;43m.\u001b[39;49m\u001b[43m_mean\u001b[49m\u001b[43m(\u001b[49m\u001b[43ma\u001b[49m\u001b[43m,\u001b[49m\u001b[43m \u001b[49m\u001b[43maxis\u001b[49m\u001b[38;5;241;43m=\u001b[39;49m\u001b[43maxis\u001b[49m\u001b[43m,\u001b[49m\u001b[43m \u001b[49m\u001b[43mdtype\u001b[49m\u001b[38;5;241;43m=\u001b[39;49m\u001b[43mdtype\u001b[49m\u001b[43m,\u001b[49m\n\u001b[1;32m   3465\u001b[0m \u001b[43m                      \u001b[49m\u001b[43mout\u001b[49m\u001b[38;5;241;43m=\u001b[39;49m\u001b[43mout\u001b[49m\u001b[43m,\u001b[49m\u001b[43m \u001b[49m\u001b[38;5;241;43m*\u001b[39;49m\u001b[38;5;241;43m*\u001b[39;49m\u001b[43mkwargs\u001b[49m\u001b[43m)\u001b[49m\n",
      "File \u001b[0;32m~/opt/anaconda3/envs/edgelord/lib/python3.10/site-packages/numpy/core/_methods.py:181\u001b[0m, in \u001b[0;36m_mean\u001b[0;34m(a, axis, dtype, out, keepdims, where)\u001b[0m\n\u001b[1;32m    178\u001b[0m         dtype \u001b[38;5;241m=\u001b[39m mu\u001b[38;5;241m.\u001b[39mdtype(\u001b[38;5;124m'\u001b[39m\u001b[38;5;124mf4\u001b[39m\u001b[38;5;124m'\u001b[39m)\n\u001b[1;32m    179\u001b[0m         is_float16_result \u001b[38;5;241m=\u001b[39m \u001b[38;5;28;01mTrue\u001b[39;00m\n\u001b[0;32m--> 181\u001b[0m ret \u001b[38;5;241m=\u001b[39m \u001b[43mumr_sum\u001b[49m\u001b[43m(\u001b[49m\u001b[43marr\u001b[49m\u001b[43m,\u001b[49m\u001b[43m \u001b[49m\u001b[43maxis\u001b[49m\u001b[43m,\u001b[49m\u001b[43m \u001b[49m\u001b[43mdtype\u001b[49m\u001b[43m,\u001b[49m\u001b[43m \u001b[49m\u001b[43mout\u001b[49m\u001b[43m,\u001b[49m\u001b[43m \u001b[49m\u001b[43mkeepdims\u001b[49m\u001b[43m,\u001b[49m\u001b[43m \u001b[49m\u001b[43mwhere\u001b[49m\u001b[38;5;241;43m=\u001b[39;49m\u001b[43mwhere\u001b[49m\u001b[43m)\u001b[49m\n\u001b[1;32m    182\u001b[0m \u001b[38;5;28;01mif\u001b[39;00m \u001b[38;5;28misinstance\u001b[39m(ret, mu\u001b[38;5;241m.\u001b[39mndarray):\n\u001b[1;32m    183\u001b[0m     \u001b[38;5;28;01mwith\u001b[39;00m _no_nep50_warning():\n",
      "\u001b[0;31mValueError\u001b[0m: operands could not be broadcast together with shapes (2457,) (2487,) "
     ]
    }
   ],
   "source": [
    "# can also average all the samples within a group together and then compare the group averages with the KS test\n",
    "JUB66_RFP_avg = np.mean(JUB66_RFP_org, axis=0)\n",
    "JUB66_RFP_IN_CEMBIO_avg = np.mean(JUB66_RFP_IN_CEMBIO_org, axis=0)\n",
    "MK_JUB66_RFP_avg = np.mean(MK_JUB66_RFP_org, axis=0)\n",
    "\n",
    "print(JUB66_RFP_avg)\n",
    "print(JUB66_RFP_IN_CEMBIO_avg)\n",
    "print(MK_JUB66_RFP_avg)"
   ]
  },
  {
   "cell_type": "code",
   "execution_count": 127,
   "metadata": {},
   "outputs": [],
   "source": [
    "# import the 2 sample KS test\n",
    "from scipy.stats import ks_2samp"
   ]
  },
  {
   "cell_type": "code",
   "execution_count": 128,
   "metadata": {},
   "outputs": [
    {
     "ename": "ValueError",
     "evalue": "all the input array dimensions except for the concatenation axis must match exactly, but along dimension 1, the array at index 0 has size 3264 and the array at index 1 has size 3416",
     "output_type": "error",
     "traceback": [
      "\u001b[0;31m---------------------------------------------------------------------------\u001b[0m",
      "\u001b[0;31mValueError\u001b[0m                                Traceback (most recent call last)",
      "Cell \u001b[0;32mIn[128], line 1\u001b[0m\n\u001b[0;32m----> 1\u001b[0m \u001b[43mks_2samp\u001b[49m\u001b[43m(\u001b[49m\u001b[43mJUB66_RFP_avg\u001b[49m\u001b[43m,\u001b[49m\u001b[43m \u001b[49m\u001b[43mJUB66_RFP_IN_CEMBIO_avg\u001b[49m\u001b[43m)\u001b[49m\n",
      "File \u001b[0;32m~/opt/anaconda3/envs/edgelord/lib/python3.10/site-packages/scipy/_lib/_util.py:700\u001b[0m, in \u001b[0;36m_rename_parameter.<locals>.decorator.<locals>.wrapper\u001b[0;34m(*args, **kwargs)\u001b[0m\n\u001b[1;32m    698\u001b[0m         \u001b[38;5;28;01mraise\u001b[39;00m \u001b[38;5;167;01mTypeError\u001b[39;00m(message)\n\u001b[1;32m    699\u001b[0m     kwargs[new_name] \u001b[38;5;241m=\u001b[39m kwargs\u001b[38;5;241m.\u001b[39mpop(old_name)\n\u001b[0;32m--> 700\u001b[0m \u001b[38;5;28;01mreturn\u001b[39;00m \u001b[43mfun\u001b[49m\u001b[43m(\u001b[49m\u001b[38;5;241;43m*\u001b[39;49m\u001b[43margs\u001b[49m\u001b[43m,\u001b[49m\u001b[43m \u001b[49m\u001b[38;5;241;43m*\u001b[39;49m\u001b[38;5;241;43m*\u001b[39;49m\u001b[43mkwargs\u001b[49m\u001b[43m)\u001b[49m\n",
      "File \u001b[0;32m~/opt/anaconda3/envs/edgelord/lib/python3.10/site-packages/scipy/stats/_stats_py.py:8110\u001b[0m, in \u001b[0;36mks_2samp\u001b[0;34m(data1, data2, alternative, method)\u001b[0m\n\u001b[1;32m   8107\u001b[0m \u001b[38;5;28;01mif\u001b[39;00m \u001b[38;5;28mmin\u001b[39m(n1, n2) \u001b[38;5;241m==\u001b[39m \u001b[38;5;241m0\u001b[39m:\n\u001b[1;32m   8108\u001b[0m     \u001b[38;5;28;01mraise\u001b[39;00m \u001b[38;5;167;01mValueError\u001b[39;00m(\u001b[38;5;124m'\u001b[39m\u001b[38;5;124mData passed to ks_2samp must not be empty\u001b[39m\u001b[38;5;124m'\u001b[39m)\n\u001b[0;32m-> 8110\u001b[0m data_all \u001b[38;5;241m=\u001b[39m \u001b[43mnp\u001b[49m\u001b[38;5;241;43m.\u001b[39;49m\u001b[43mconcatenate\u001b[49m\u001b[43m(\u001b[49m\u001b[43m[\u001b[49m\u001b[43mdata1\u001b[49m\u001b[43m,\u001b[49m\u001b[43m \u001b[49m\u001b[43mdata2\u001b[49m\u001b[43m]\u001b[49m\u001b[43m)\u001b[49m\n\u001b[1;32m   8111\u001b[0m \u001b[38;5;66;03m# using searchsorted solves equal data problem\u001b[39;00m\n\u001b[1;32m   8112\u001b[0m cdf1 \u001b[38;5;241m=\u001b[39m np\u001b[38;5;241m.\u001b[39msearchsorted(data1, data_all, side\u001b[38;5;241m=\u001b[39m\u001b[38;5;124m'\u001b[39m\u001b[38;5;124mright\u001b[39m\u001b[38;5;124m'\u001b[39m) \u001b[38;5;241m/\u001b[39m n1\n",
      "File \u001b[0;32m<__array_function__ internals>:200\u001b[0m, in \u001b[0;36mconcatenate\u001b[0;34m(*args, **kwargs)\u001b[0m\n",
      "\u001b[0;31mValueError\u001b[0m: all the input array dimensions except for the concatenation axis must match exactly, but along dimension 1, the array at index 0 has size 3264 and the array at index 1 has size 3416"
     ]
    }
   ],
   "source": [
    "ks_2samp(JUB66_RFP_avg, JUB66_RFP_IN_CEMBIO_avg)"
   ]
  },
  {
   "cell_type": "code",
   "execution_count": 129,
   "metadata": {},
   "outputs": [
    {
     "ename": "ValueError",
     "evalue": "all the input array dimensions except for the concatenation axis must match exactly, but along dimension 1, the array at index 0 has size 3264 and the array at index 1 has size 3384",
     "output_type": "error",
     "traceback": [
      "\u001b[0;31m---------------------------------------------------------------------------\u001b[0m",
      "\u001b[0;31mValueError\u001b[0m                                Traceback (most recent call last)",
      "Cell \u001b[0;32mIn[129], line 1\u001b[0m\n\u001b[0;32m----> 1\u001b[0m \u001b[43mks_2samp\u001b[49m\u001b[43m(\u001b[49m\u001b[43mJUB66_RFP_avg\u001b[49m\u001b[43m,\u001b[49m\u001b[43m \u001b[49m\u001b[43mMK_JUB66_RFP_avg\u001b[49m\u001b[43m)\u001b[49m\n",
      "File \u001b[0;32m~/opt/anaconda3/envs/edgelord/lib/python3.10/site-packages/scipy/_lib/_util.py:700\u001b[0m, in \u001b[0;36m_rename_parameter.<locals>.decorator.<locals>.wrapper\u001b[0;34m(*args, **kwargs)\u001b[0m\n\u001b[1;32m    698\u001b[0m         \u001b[38;5;28;01mraise\u001b[39;00m \u001b[38;5;167;01mTypeError\u001b[39;00m(message)\n\u001b[1;32m    699\u001b[0m     kwargs[new_name] \u001b[38;5;241m=\u001b[39m kwargs\u001b[38;5;241m.\u001b[39mpop(old_name)\n\u001b[0;32m--> 700\u001b[0m \u001b[38;5;28;01mreturn\u001b[39;00m \u001b[43mfun\u001b[49m\u001b[43m(\u001b[49m\u001b[38;5;241;43m*\u001b[39;49m\u001b[43margs\u001b[49m\u001b[43m,\u001b[49m\u001b[43m \u001b[49m\u001b[38;5;241;43m*\u001b[39;49m\u001b[38;5;241;43m*\u001b[39;49m\u001b[43mkwargs\u001b[49m\u001b[43m)\u001b[49m\n",
      "File \u001b[0;32m~/opt/anaconda3/envs/edgelord/lib/python3.10/site-packages/scipy/stats/_stats_py.py:8110\u001b[0m, in \u001b[0;36mks_2samp\u001b[0;34m(data1, data2, alternative, method)\u001b[0m\n\u001b[1;32m   8107\u001b[0m \u001b[38;5;28;01mif\u001b[39;00m \u001b[38;5;28mmin\u001b[39m(n1, n2) \u001b[38;5;241m==\u001b[39m \u001b[38;5;241m0\u001b[39m:\n\u001b[1;32m   8108\u001b[0m     \u001b[38;5;28;01mraise\u001b[39;00m \u001b[38;5;167;01mValueError\u001b[39;00m(\u001b[38;5;124m'\u001b[39m\u001b[38;5;124mData passed to ks_2samp must not be empty\u001b[39m\u001b[38;5;124m'\u001b[39m)\n\u001b[0;32m-> 8110\u001b[0m data_all \u001b[38;5;241m=\u001b[39m \u001b[43mnp\u001b[49m\u001b[38;5;241;43m.\u001b[39;49m\u001b[43mconcatenate\u001b[49m\u001b[43m(\u001b[49m\u001b[43m[\u001b[49m\u001b[43mdata1\u001b[49m\u001b[43m,\u001b[49m\u001b[43m \u001b[49m\u001b[43mdata2\u001b[49m\u001b[43m]\u001b[49m\u001b[43m)\u001b[49m\n\u001b[1;32m   8111\u001b[0m \u001b[38;5;66;03m# using searchsorted solves equal data problem\u001b[39;00m\n\u001b[1;32m   8112\u001b[0m cdf1 \u001b[38;5;241m=\u001b[39m np\u001b[38;5;241m.\u001b[39msearchsorted(data1, data_all, side\u001b[38;5;241m=\u001b[39m\u001b[38;5;124m'\u001b[39m\u001b[38;5;124mright\u001b[39m\u001b[38;5;124m'\u001b[39m) \u001b[38;5;241m/\u001b[39m n1\n",
      "File \u001b[0;32m<__array_function__ internals>:200\u001b[0m, in \u001b[0;36mconcatenate\u001b[0;34m(*args, **kwargs)\u001b[0m\n",
      "\u001b[0;31mValueError\u001b[0m: all the input array dimensions except for the concatenation axis must match exactly, but along dimension 1, the array at index 0 has size 3264 and the array at index 1 has size 3384"
     ]
    }
   ],
   "source": [
    "ks_2samp(JUB66_RFP_avg, MK_JUB66_RFP_avg)"
   ]
  },
  {
   "cell_type": "code",
   "execution_count": 130,
   "metadata": {},
   "outputs": [
    {
     "ename": "ValueError",
     "evalue": "all the input array dimensions except for the concatenation axis must match exactly, but along dimension 1, the array at index 0 has size 3416 and the array at index 1 has size 3384",
     "output_type": "error",
     "traceback": [
      "\u001b[0;31m---------------------------------------------------------------------------\u001b[0m",
      "\u001b[0;31mValueError\u001b[0m                                Traceback (most recent call last)",
      "Cell \u001b[0;32mIn[130], line 1\u001b[0m\n\u001b[0;32m----> 1\u001b[0m \u001b[43mks_2samp\u001b[49m\u001b[43m(\u001b[49m\u001b[43mJUB66_RFP_IN_CEMBIO_avg\u001b[49m\u001b[43m,\u001b[49m\u001b[43m \u001b[49m\u001b[43mMK_JUB66_RFP_avg\u001b[49m\u001b[43m)\u001b[49m\n",
      "File \u001b[0;32m~/opt/anaconda3/envs/edgelord/lib/python3.10/site-packages/scipy/_lib/_util.py:700\u001b[0m, in \u001b[0;36m_rename_parameter.<locals>.decorator.<locals>.wrapper\u001b[0;34m(*args, **kwargs)\u001b[0m\n\u001b[1;32m    698\u001b[0m         \u001b[38;5;28;01mraise\u001b[39;00m \u001b[38;5;167;01mTypeError\u001b[39;00m(message)\n\u001b[1;32m    699\u001b[0m     kwargs[new_name] \u001b[38;5;241m=\u001b[39m kwargs\u001b[38;5;241m.\u001b[39mpop(old_name)\n\u001b[0;32m--> 700\u001b[0m \u001b[38;5;28;01mreturn\u001b[39;00m \u001b[43mfun\u001b[49m\u001b[43m(\u001b[49m\u001b[38;5;241;43m*\u001b[39;49m\u001b[43margs\u001b[49m\u001b[43m,\u001b[49m\u001b[43m \u001b[49m\u001b[38;5;241;43m*\u001b[39;49m\u001b[38;5;241;43m*\u001b[39;49m\u001b[43mkwargs\u001b[49m\u001b[43m)\u001b[49m\n",
      "File \u001b[0;32m~/opt/anaconda3/envs/edgelord/lib/python3.10/site-packages/scipy/stats/_stats_py.py:8110\u001b[0m, in \u001b[0;36mks_2samp\u001b[0;34m(data1, data2, alternative, method)\u001b[0m\n\u001b[1;32m   8107\u001b[0m \u001b[38;5;28;01mif\u001b[39;00m \u001b[38;5;28mmin\u001b[39m(n1, n2) \u001b[38;5;241m==\u001b[39m \u001b[38;5;241m0\u001b[39m:\n\u001b[1;32m   8108\u001b[0m     \u001b[38;5;28;01mraise\u001b[39;00m \u001b[38;5;167;01mValueError\u001b[39;00m(\u001b[38;5;124m'\u001b[39m\u001b[38;5;124mData passed to ks_2samp must not be empty\u001b[39m\u001b[38;5;124m'\u001b[39m)\n\u001b[0;32m-> 8110\u001b[0m data_all \u001b[38;5;241m=\u001b[39m \u001b[43mnp\u001b[49m\u001b[38;5;241;43m.\u001b[39;49m\u001b[43mconcatenate\u001b[49m\u001b[43m(\u001b[49m\u001b[43m[\u001b[49m\u001b[43mdata1\u001b[49m\u001b[43m,\u001b[49m\u001b[43m \u001b[49m\u001b[43mdata2\u001b[49m\u001b[43m]\u001b[49m\u001b[43m)\u001b[49m\n\u001b[1;32m   8111\u001b[0m \u001b[38;5;66;03m# using searchsorted solves equal data problem\u001b[39;00m\n\u001b[1;32m   8112\u001b[0m cdf1 \u001b[38;5;241m=\u001b[39m np\u001b[38;5;241m.\u001b[39msearchsorted(data1, data_all, side\u001b[38;5;241m=\u001b[39m\u001b[38;5;124m'\u001b[39m\u001b[38;5;124mright\u001b[39m\u001b[38;5;124m'\u001b[39m) \u001b[38;5;241m/\u001b[39m n1\n",
      "File \u001b[0;32m<__array_function__ internals>:200\u001b[0m, in \u001b[0;36mconcatenate\u001b[0;34m(*args, **kwargs)\u001b[0m\n",
      "\u001b[0;31mValueError\u001b[0m: all the input array dimensions except for the concatenation axis must match exactly, but along dimension 1, the array at index 0 has size 3416 and the array at index 1 has size 3384"
     ]
    }
   ],
   "source": [
    "ks_2samp(JUB66_RFP_IN_CEMBIO_avg, MK_JUB66_RFP_avg)"
   ]
  },
  {
   "cell_type": "markdown",
   "metadata": {},
   "source": [
    "----"
   ]
  },
  {
   "cell_type": "markdown",
   "metadata": {},
   "source": [
    "## Chi Square test for goodness of fit (non-parametric test)"
   ]
  },
  {
   "cell_type": "code",
   "execution_count": 203,
   "metadata": {},
   "outputs": [
    {
     "name": "stdout",
     "output_type": "stream",
     "text": [
      "[0.06170544 0.06067251 0.06100886 ... 0.03201834 0.03158331 0.03202166]\n"
     ]
    },
    {
     "data": {
      "text/plain": [
       "1166"
      ]
     },
     "execution_count": 203,
     "metadata": {},
     "output_type": "execute_result"
    }
   ],
   "source": [
    "# seperate data into groups based on diet and then by part\n",
    "\n",
    "JUB66_RFP = combined_df[combined_df['diet'] == 'JUB66_RFP']\n",
    "JUB66_RFP_part1 = JUB66_RFP[JUB66_RFP['part'] == 'part 1']\n",
    "JUB66_RFP_part2 = JUB66_RFP[JUB66_RFP['part'] == 'part 2']\n",
    "JUB66_RFP_part3 = JUB66_RFP[JUB66_RFP['part'] == 'part 3']\n",
    "\n",
    "JUB66_RFP_part1 = JUB66_RFP_part1['arr_data']\n",
    "JUB66_RFP_part2 = JUB66_RFP_part2['arr_data']\n",
    "JUB66_RFP_part3 = JUB66_RFP_part3['arr_data']\n",
    "\n",
    "\n",
    "JUB66_RFP_part1_avg = np.mean(JUB66_RFP_part1, axis=0)\n",
    "JUB66_RFP_part2_avg = np.mean(JUB66_RFP_part2, axis=0)\n",
    "JUB66_RFP_part3_avg = np.mean(JUB66_RFP_part3, axis=0)\n",
    "\n",
    "print(JUB66_RFP_part3_avg)\n",
    "len(JUB66_RFP_part3_avg)"
   ]
  },
  {
   "cell_type": "code",
   "execution_count": 202,
   "metadata": {},
   "outputs": [
    {
     "name": "stdout",
     "output_type": "stream",
     "text": [
      "[0.01797761 0.01749451 0.0176671  ... 0.01334816 0.01300262 0.0126627 ]\n"
     ]
    },
    {
     "data": {
      "text/plain": [
       "1166"
      ]
     },
     "execution_count": 202,
     "metadata": {},
     "output_type": "execute_result"
    }
   ],
   "source": [
    "JUB66_RFP_IN_CEMBIO = combined_df[combined_df['diet'] == 'JUB66_RFP_IN_CEMBIO']\n",
    "JUB66_RFP_IN_CEMBIO_part1 = JUB66_RFP_IN_CEMBIO[JUB66_RFP_IN_CEMBIO['part'] == 'part 1']\n",
    "JUB66_RFP_IN_CEMBIO_part2 = JUB66_RFP_IN_CEMBIO[JUB66_RFP_IN_CEMBIO['part'] == 'part 2']\n",
    "JUB66_RFP_IN_CEMBIO_part3 = JUB66_RFP_IN_CEMBIO[JUB66_RFP_IN_CEMBIO['part'] == 'part 3']\n",
    "\n",
    "JUB66_RFP_IN_CEMBIO_part1 = JUB66_RFP_IN_CEMBIO_part1['arr_data']\n",
    "JUB66_RFP_IN_CEMBIO_part2 = JUB66_RFP_IN_CEMBIO_part2['arr_data']\n",
    "JUB66_RFP_IN_CEMBIO_part3 = JUB66_RFP_IN_CEMBIO_part3['arr_data']\n",
    "\n",
    "\n",
    "JUB66_RFP_IN_CEMBIO_part1_avg = np.mean(JUB66_RFP_IN_CEMBIO_part1, axis=0)\n",
    "JUB66_RFP_IN_CEMBIO_part2_avg = np.mean(JUB66_RFP_IN_CEMBIO_part2, axis=0)\n",
    "JUB66_RFP_IN_CEMBIO_part3_avg = np.mean(JUB66_RFP_IN_CEMBIO_part3, axis=0)\n",
    "\n",
    "print(JUB66_RFP_IN_CEMBIO_part3_avg)\n",
    "len(JUB66_RFP_IN_CEMBIO_part3_avg)"
   ]
  },
  {
   "cell_type": "code",
   "execution_count": 201,
   "metadata": {},
   "outputs": [
    {
     "name": "stdout",
     "output_type": "stream",
     "text": [
      "[0.01277387 0.01268829 0.01257297 ... 0.01155102 0.01142269 0.0111888 ]\n"
     ]
    },
    {
     "data": {
      "text/plain": [
       "1166"
      ]
     },
     "execution_count": 201,
     "metadata": {},
     "output_type": "execute_result"
    }
   ],
   "source": [
    "MK_JUB66_RFP = combined_df[combined_df['diet'] == 'MK_JUB66_RFP']\n",
    "MK_JUB66_RFP_part1 = MK_JUB66_RFP[MK_JUB66_RFP['part'] == 'part 1']\n",
    "MK_JUB66_RFP_part2 = MK_JUB66_RFP[MK_JUB66_RFP['part'] == 'part 2']\n",
    "MK_JUB66_RFP_part3 = MK_JUB66_RFP[MK_JUB66_RFP['part'] == 'part 3']\n",
    "\n",
    "MK_JUB66_RFP_part1 = MK_JUB66_RFP_part1['arr_data']\n",
    "MK_JUB66_RFP_part2 = MK_JUB66_RFP_part2['arr_data']\n",
    "MK_JUB66_RFP_part3 = MK_JUB66_RFP_part3['arr_data']\n",
    "\n",
    "\n",
    "MK_JUB66_RFP_part1_avg = np.mean(MK_JUB66_RFP_part1, axis=0)\n",
    "MK_JUB66_RFP_part2_avg = np.mean(MK_JUB66_RFP_part2, axis=0)\n",
    "MK_JUB66_RFP_part3_avg = np.mean(MK_JUB66_RFP_part3, axis=0)\n",
    "\n",
    "print(MK_JUB66_RFP_part3_avg)\n",
    "len(MK_JUB66_RFP_part3_avg)"
   ]
  },
  {
   "cell_type": "code",
   "execution_count": 199,
   "metadata": {},
   "outputs": [],
   "source": [
    "bootstrap_sample = np.random.choice(JUB66_RFP_part1_avg, size=len(JUB66_RFP_part1_avg), replace=True)"
   ]
  },
  {
   "cell_type": "code",
   "execution_count": 200,
   "metadata": {},
   "outputs": [
    {
     "ename": "ValueError",
     "evalue": "For each axis slice, the sum of the observed frequencies must agree with the sum of the expected frequencies to a relative tolerance of 1e-08, but the percent differences are:\n0.006297328354312978",
     "output_type": "error",
     "traceback": [
      "\u001b[0;31m---------------------------------------------------------------------------\u001b[0m",
      "\u001b[0;31mValueError\u001b[0m                                Traceback (most recent call last)",
      "Cell \u001b[0;32mIn[200], line 2\u001b[0m\n\u001b[1;32m      1\u001b[0m \u001b[38;5;66;03m# Chi-Square Goodness of Fit Test\u001b[39;00m\n\u001b[0;32m----> 2\u001b[0m chi_square_test_statistic, p_value \u001b[38;5;241m=\u001b[39m \u001b[43mstats\u001b[49m\u001b[38;5;241;43m.\u001b[39;49m\u001b[43mchisquare\u001b[49m\u001b[43m(\u001b[49m\u001b[43mJUB66_RFP_part1_avg\u001b[49m\u001b[43m,\u001b[49m\u001b[43m \u001b[49m\u001b[43mbootstrap_sample\u001b[49m\u001b[43m)\u001b[49m\n\u001b[1;32m      3\u001b[0m \u001b[38;5;66;03m#chi_square_test_statistic, p_value = stats.chisquare(JUB66_RFP_part1_avg, JUB66_RFP_part2_avg, JUB66_RFP_part3_avg)\u001b[39;00m\n\u001b[1;32m      4\u001b[0m \u001b[38;5;66;03m#chi_square_test_statistic, p_value = stats.chisquare(JUB66_RFP_part1_avg, JUB66_RFP_IN_CEMBIO_part1_avg, MK_JUB66_RFP_part1_avg)\u001b[39;00m\n\u001b[1;32m      5\u001b[0m \n\u001b[1;32m      6\u001b[0m \u001b[38;5;66;03m# chi square test statistic and p value\u001b[39;00m\n\u001b[1;32m      7\u001b[0m \u001b[38;5;28mprint\u001b[39m(\u001b[38;5;124m'\u001b[39m\u001b[38;5;124mchi_square_test_statistic is : \u001b[39m\u001b[38;5;124m'\u001b[39m \u001b[38;5;241m+\u001b[39m \u001b[38;5;28mstr\u001b[39m(chi_square_test_statistic))\n",
      "File \u001b[0;32m~/opt/anaconda3/envs/edgelord/lib/python3.10/site-packages/scipy/stats/_stats_py.py:7553\u001b[0m, in \u001b[0;36mchisquare\u001b[0;34m(f_obs, f_exp, ddof, axis)\u001b[0m\n\u001b[1;32m   7428\u001b[0m \u001b[38;5;28;01mdef\u001b[39;00m \u001b[38;5;21mchisquare\u001b[39m(f_obs, f_exp\u001b[38;5;241m=\u001b[39m\u001b[38;5;28;01mNone\u001b[39;00m, ddof\u001b[38;5;241m=\u001b[39m\u001b[38;5;241m0\u001b[39m, axis\u001b[38;5;241m=\u001b[39m\u001b[38;5;241m0\u001b[39m):\n\u001b[1;32m   7429\u001b[0m \u001b[38;5;250m    \u001b[39m\u001b[38;5;124;03m\"\"\"Calculate a one-way chi-square test.\u001b[39;00m\n\u001b[1;32m   7430\u001b[0m \n\u001b[1;32m   7431\u001b[0m \u001b[38;5;124;03m    The chi-square test tests the null hypothesis that the categorical data\u001b[39;00m\n\u001b[0;32m   (...)\u001b[0m\n\u001b[1;32m   7551\u001b[0m \n\u001b[1;32m   7552\u001b[0m \u001b[38;5;124;03m    \"\"\"\u001b[39;00m\n\u001b[0;32m-> 7553\u001b[0m     \u001b[38;5;28;01mreturn\u001b[39;00m \u001b[43mpower_divergence\u001b[49m\u001b[43m(\u001b[49m\u001b[43mf_obs\u001b[49m\u001b[43m,\u001b[49m\u001b[43m \u001b[49m\u001b[43mf_exp\u001b[49m\u001b[38;5;241;43m=\u001b[39;49m\u001b[43mf_exp\u001b[49m\u001b[43m,\u001b[49m\u001b[43m \u001b[49m\u001b[43mddof\u001b[49m\u001b[38;5;241;43m=\u001b[39;49m\u001b[43mddof\u001b[49m\u001b[43m,\u001b[49m\u001b[43m \u001b[49m\u001b[43maxis\u001b[49m\u001b[38;5;241;43m=\u001b[39;49m\u001b[43maxis\u001b[49m\u001b[43m,\u001b[49m\n\u001b[1;32m   7554\u001b[0m \u001b[43m                            \u001b[49m\u001b[43mlambda_\u001b[49m\u001b[38;5;241;43m=\u001b[39;49m\u001b[38;5;124;43m\"\u001b[39;49m\u001b[38;5;124;43mpearson\u001b[39;49m\u001b[38;5;124;43m\"\u001b[39;49m\u001b[43m)\u001b[49m\n",
      "File \u001b[0;32m~/opt/anaconda3/envs/edgelord/lib/python3.10/site-packages/scipy/stats/_stats_py.py:7394\u001b[0m, in \u001b[0;36mpower_divergence\u001b[0;34m(f_obs, f_exp, ddof, axis, lambda_)\u001b[0m\n\u001b[1;32m   7388\u001b[0m     \u001b[38;5;28;01mif\u001b[39;00m diff_gt_tol:\n\u001b[1;32m   7389\u001b[0m         msg \u001b[38;5;241m=\u001b[39m (\u001b[38;5;124mf\u001b[39m\u001b[38;5;124m\"\u001b[39m\u001b[38;5;124mFor each axis slice, the sum of the observed \u001b[39m\u001b[38;5;124m\"\u001b[39m\n\u001b[1;32m   7390\u001b[0m                \u001b[38;5;124mf\u001b[39m\u001b[38;5;124m\"\u001b[39m\u001b[38;5;124mfrequencies must agree with the sum of the \u001b[39m\u001b[38;5;124m\"\u001b[39m\n\u001b[1;32m   7391\u001b[0m                \u001b[38;5;124mf\u001b[39m\u001b[38;5;124m\"\u001b[39m\u001b[38;5;124mexpected frequencies to a relative tolerance \u001b[39m\u001b[38;5;124m\"\u001b[39m\n\u001b[1;32m   7392\u001b[0m                \u001b[38;5;124mf\u001b[39m\u001b[38;5;124m\"\u001b[39m\u001b[38;5;124mof \u001b[39m\u001b[38;5;132;01m{\u001b[39;00mrtol\u001b[38;5;132;01m}\u001b[39;00m\u001b[38;5;124m, but the percent differences are:\u001b[39m\u001b[38;5;130;01m\\n\u001b[39;00m\u001b[38;5;124m\"\u001b[39m\n\u001b[1;32m   7393\u001b[0m                \u001b[38;5;124mf\u001b[39m\u001b[38;5;124m\"\u001b[39m\u001b[38;5;132;01m{\u001b[39;00mrelative_diff\u001b[38;5;132;01m}\u001b[39;00m\u001b[38;5;124m\"\u001b[39m)\n\u001b[0;32m-> 7394\u001b[0m         \u001b[38;5;28;01mraise\u001b[39;00m \u001b[38;5;167;01mValueError\u001b[39;00m(msg)\n\u001b[1;32m   7396\u001b[0m \u001b[38;5;28;01melse\u001b[39;00m:\n\u001b[1;32m   7397\u001b[0m     \u001b[38;5;66;03m# Ignore 'invalid' errors so the edge case of a data set with length 0\u001b[39;00m\n\u001b[1;32m   7398\u001b[0m     \u001b[38;5;66;03m# is handled without spurious warnings.\u001b[39;00m\n\u001b[1;32m   7399\u001b[0m     \u001b[38;5;28;01mwith\u001b[39;00m np\u001b[38;5;241m.\u001b[39merrstate(invalid\u001b[38;5;241m=\u001b[39m\u001b[38;5;124m'\u001b[39m\u001b[38;5;124mignore\u001b[39m\u001b[38;5;124m'\u001b[39m):\n",
      "\u001b[0;31mValueError\u001b[0m: For each axis slice, the sum of the observed frequencies must agree with the sum of the expected frequencies to a relative tolerance of 1e-08, but the percent differences are:\n0.006297328354312978"
     ]
    }
   ],
   "source": [
    "# Chi-Square Goodness of Fit Test\n",
    "chi_square_test_statistic, p_value = stats.chisquare(JUB66_RFP_part1_avg, bootstrap_sample)\n",
    "#chi_square_test_statistic, p_value = stats.chisquare(JUB66_RFP_part1_avg, JUB66_RFP_part2_avg, JUB66_RFP_part3_avg)\n",
    "#chi_square_test_statistic, p_value = stats.chisquare(JUB66_RFP_part1_avg, JUB66_RFP_IN_CEMBIO_part1_avg, MK_JUB66_RFP_part1_avg)\n",
    "\n",
    "# chi square test statistic and p value\n",
    "print('chi_square_test_statistic is : ' + str(chi_square_test_statistic))\n",
    "print('p_value : ' + str(p_value))\n",
    "\n",
    "# find Chi-Square critical value\n",
    "print(stats.chi2.ppf(1-0.05, df=6))"
   ]
  },
  {
   "cell_type": "code",
   "execution_count": null,
   "metadata": {},
   "outputs": [],
   "source": []
  },
  {
   "cell_type": "code",
   "execution_count": null,
   "metadata": {},
   "outputs": [],
   "source": []
  },
  {
   "cell_type": "markdown",
   "metadata": {},
   "source": [
    "rather than part 1, part 2, part 3\n",
    "percentage into the worm, say like 10% into the worm is associated with int1-5 "
   ]
  },
  {
   "cell_type": "code",
   "execution_count": null,
   "metadata": {},
   "outputs": [],
   "source": []
  },
  {
   "cell_type": "markdown",
   "metadata": {},
   "source": [
    "---"
   ]
  },
  {
   "cell_type": "code",
   "execution_count": null,
   "metadata": {},
   "outputs": [],
   "source": [
    "#logistic regression\n",
    "\n",
    "#use the mk_jub66 as the experimental control"
   ]
  }
 ],
 "metadata": {
  "kernelspec": {
   "display_name": "Python 3 (ipykernel)",
   "language": "python",
   "name": "python3"
  },
  "language_info": {
   "codemirror_mode": {
    "name": "ipython",
    "version": 3
   },
   "file_extension": ".py",
   "mimetype": "text/x-python",
   "name": "python",
   "nbconvert_exporter": "python",
   "pygments_lexer": "ipython3",
   "version": "3.10.10"
  },
  "vscode": {
   "interpreter": {
    "hash": "3463c854f0082a003140982b0872894a147152f8e208066d855aeb42c04ab031"
   }
  }
 },
 "nbformat": 4,
 "nbformat_minor": 4
}
