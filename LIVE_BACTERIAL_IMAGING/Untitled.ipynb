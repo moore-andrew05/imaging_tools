{
 "cells": [
  {
   "cell_type": "code",
   "execution_count": null,
   "id": "f9e0324c-08ca-4b0b-a85d-8905aaebb953",
   "metadata": {},
   "outputs": [],
   "source": [
    "# Find the divisor for a remainder of 3\n",
    "#for divisor in range(1, len(sample)):\n",
    "#    if len(sample) % divisor == 3:\n",
    "#        print(f\"The divisor for a remainder of 3 is: {divisor}\")\n",
    "#        break\n",
    "#else:\n",
    "#    print(\"No divisor found to get a remainder of 3.\")\n",
    "    \n",
    "       \n"
   ]
  }
 ],
 "metadata": {
  "kernelspec": {
   "display_name": "Python 3 (ipykernel)",
   "language": "python",
   "name": "python3"
  },
  "language_info": {
   "codemirror_mode": {
    "name": "ipython",
    "version": 3
   },
   "file_extension": ".py",
   "mimetype": "text/x-python",
   "name": "python",
   "nbconvert_exporter": "python",
   "pygments_lexer": "ipython3",
   "version": "3.10.10"
  }
 },
 "nbformat": 4,
 "nbformat_minor": 5
}
